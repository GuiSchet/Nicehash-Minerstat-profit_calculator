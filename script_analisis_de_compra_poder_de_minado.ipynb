{
  "nbformat": 4,
  "nbformat_minor": 0,
  "metadata": {
    "colab": {
      "provenance": [],
      "authorship_tag": "ABX9TyO742LO8KwggKwsSK01LKJy"
    },
    "kernelspec": {
      "name": "python3",
      "display_name": "Python 3"
    },
    "language_info": {
      "name": "python"
    }
  },
  "cells": [
    {
      "cell_type": "code",
      "execution_count": 8,
      "metadata": {
        "id": "FTVu8LmgqkgA"
      },
      "outputs": [],
      "source": [
        "#https://api2.nicehash.com/main/api/v2/hashpower/orderBook?algorithm=SHA256&size=100\n",
        "\n",
        "#https://api2.nicehash.com/main/api/v2/hashpower/order/price?market=USA&algorithm=SHA256\n",
        "\n",
        "#https://api.minerstat.com/v2/coins?algo=SHA-256"
      ]
    },
    {
      "cell_type": "code",
      "source": [
        "#Coin's reward for 1 H/s for 1 hour of mining based on the most current difficulty. If coin has no data on reward, the reward is\n",
        "#https://api.minerstat.com/v2/coins?algo=SHA-256"
      ],
      "metadata": {
        "id": "BkdR7_PSrqSE"
      },
      "execution_count": 9,
      "outputs": []
    },
    {
      "cell_type": "code",
      "source": [
        "# price : number - Price in BTC/factor[TH/Sol/G]/day\n",
        "# displayPriceFactor : string - Price unit for the algorithm\n",
        "#https://api2.nicehash.com/main/api/v2/hashpower/orderBook?algorithm=SHA256&size=100\n",
        "\n",
        "# ALGOS:\n",
        "#[ \"SCRYPT\", \"SHA256\", \"SCRYPTNF\", \"X11\", \"X13\", \"KECCAK\", \"X15\", \"NIST5\", \"NEOSCRYPT\", \"LYRA2RE\", \"WHIRLPOOLX\", \"QUBIT\", \"QUARK\", \"AXIOM\", \"LYRA2REV2\", \"SCRYPTJANENF16\", \"BLAKE256R8\", \"BLAKE256R14\", \"BLAKE256R8VNL\", \"HODL\", \"DAGGERHASHIMOTO\", \"DECRED\", \"CRYPTONIGHT\", \"LBRY\", \"EQUIHASH\", \"PASCAL\", \"X11GOST\", \"SIA\", \"BLAKE2S\", \"SKUNK\", \"CRYPTONIGHTV7\", \"CRYPTONIGHTHEAVY\", \"LYRA2Z\", \"X16R\", \"CRYPTONIGHTV8\", \"SHA256ASICBOOST\", \"ZHASH\", \"BEAM\", \"GRINCUCKAROO29\", \"GRINCUCKATOO31\", \"LYRA2REV3\", \"CRYPTONIGHTR\", \"CUCKOOCYCLE\", \"GRINCUCKAROOD29\", \"BEAMV2\", \"X16RV2\", \"RANDOMXMONERO\", \"EAGLESONG\", \"CUCKAROOM\", \"GRINCUCKATOO32\", \"HANDSHAKE\", \"KAWPOW\", \"CUCKAROO29BFC\", \"BEAMV3\", \"CUCKAROOZ29\", \"OCTOPUS\", \"AUTOLYKOS\", \"ZELHASH\", \"KADENA\", \"ETCHASH\", \"VERUSHASH\", \"KHEAVYHASH\", \"NEXAPOW\", \"IRONFISH\" ]"
      ],
      "metadata": {
        "id": "Qzi_odJBruG3"
      },
      "execution_count": 10,
      "outputs": []
    },
    {
      "cell_type": "code",
      "source": [
        "import requests\n",
        "import json\n",
        "\n",
        "!pip install ccxt\n",
        "#!pip install ccxt in jupyter\n",
        "import ccxt\n",
        "import time\n",
        "import math\n",
        "from datetime import datetime\n",
        "exchange_id = 'bitfinex'\n",
        "exchange_class = getattr(ccxt, exchange_id)\n",
        "exchange = exchange_class({\n",
        "    'apiKey': '',\n",
        "    'secret': '',\n",
        "    'timeout': 30000,\n",
        "    'enableRateLimit': True,\n",
        "})\n",
        "# URL base de la API de NiceHash v2\n",
        "API_BASE_URL = 'https://api2.nicehash.com'"
      ],
      "metadata": {
        "id": "fE5pC0Ha2WNo",
        "colab": {
          "base_uri": "https://localhost:8080/"
        },
        "outputId": "07a802c3-5c7a-4350-e899-732e577959d5"
      },
      "execution_count": 11,
      "outputs": [
        {
          "output_type": "stream",
          "name": "stdout",
          "text": [
            "Requirement already satisfied: ccxt in /usr/local/lib/python3.10/dist-packages (4.0.80)\n",
            "Requirement already satisfied: setuptools>=60.9.0 in /usr/local/lib/python3.10/dist-packages (from ccxt) (67.7.2)\n",
            "Requirement already satisfied: certifi>=2018.1.18 in /usr/local/lib/python3.10/dist-packages (from ccxt) (2023.7.22)\n",
            "Requirement already satisfied: requests>=2.18.4 in /usr/local/lib/python3.10/dist-packages (from ccxt) (2.31.0)\n",
            "Requirement already satisfied: cryptography>=2.6.1 in /usr/local/lib/python3.10/dist-packages (from ccxt) (41.0.3)\n",
            "Requirement already satisfied: aiohttp>=3.8 in /usr/local/lib/python3.10/dist-packages (from ccxt) (3.8.5)\n",
            "Requirement already satisfied: aiodns>=1.1.1 in /usr/local/lib/python3.10/dist-packages (from ccxt) (3.0.0)\n",
            "Requirement already satisfied: yarl>=1.7.2 in /usr/local/lib/python3.10/dist-packages (from ccxt) (1.9.2)\n",
            "Requirement already satisfied: pycares>=4.0.0 in /usr/local/lib/python3.10/dist-packages (from aiodns>=1.1.1->ccxt) (4.3.0)\n",
            "Requirement already satisfied: attrs>=17.3.0 in /usr/local/lib/python3.10/dist-packages (from aiohttp>=3.8->ccxt) (23.1.0)\n",
            "Requirement already satisfied: charset-normalizer<4.0,>=2.0 in /usr/local/lib/python3.10/dist-packages (from aiohttp>=3.8->ccxt) (3.2.0)\n",
            "Requirement already satisfied: multidict<7.0,>=4.5 in /usr/local/lib/python3.10/dist-packages (from aiohttp>=3.8->ccxt) (6.0.4)\n",
            "Requirement already satisfied: async-timeout<5.0,>=4.0.0a3 in /usr/local/lib/python3.10/dist-packages (from aiohttp>=3.8->ccxt) (4.0.3)\n",
            "Requirement already satisfied: frozenlist>=1.1.1 in /usr/local/lib/python3.10/dist-packages (from aiohttp>=3.8->ccxt) (1.4.0)\n",
            "Requirement already satisfied: aiosignal>=1.1.2 in /usr/local/lib/python3.10/dist-packages (from aiohttp>=3.8->ccxt) (1.3.1)\n",
            "Requirement already satisfied: cffi>=1.12 in /usr/local/lib/python3.10/dist-packages (from cryptography>=2.6.1->ccxt) (1.15.1)\n",
            "Requirement already satisfied: idna<4,>=2.5 in /usr/local/lib/python3.10/dist-packages (from requests>=2.18.4->ccxt) (3.4)\n",
            "Requirement already satisfied: urllib3<3,>=1.21.1 in /usr/local/lib/python3.10/dist-packages (from requests>=2.18.4->ccxt) (2.0.4)\n",
            "Requirement already satisfied: pycparser in /usr/local/lib/python3.10/dist-packages (from cffi>=1.12->cryptography>=2.6.1->ccxt) (2.21)\n"
          ]
        }
      ]
    },
    {
      "cell_type": "markdown",
      "source": [
        "**PRUEBAS**"
      ],
      "metadata": {
        "id": "dHOboXwczENM"
      }
    },
    {
      "cell_type": "code",
      "source": [
        "## PRUEBAS EN NICEHASH\n",
        "\n",
        "##\n",
        "def get_hashpower_order_book(algorithm):\n",
        "    # Endpoint para obtener el libro de órdenes de hashpower por algoritmo\n",
        "    endpoint = f'{API_BASE_URL}/main/api/v2/hashpower/orderBook'\n",
        "\n",
        "    # Parámetros de la solicitud\n",
        "    params = {\n",
        "        'algorithm': algorithm,\n",
        "        'size': 100  # Cantidad de órdenes a obtener\n",
        "    }\n",
        "\n",
        "    # Realiza la solicitud a la API\n",
        "    response = requests.get(endpoint, params=params)\n",
        "    data = response.json()\n",
        "\n",
        "    return data\n",
        "\n",
        "\n",
        "algorithm = 'SHA256'  # Cambia esto al algoritmo deseado\n",
        "data = get_hashpower_order_book(algorithm)\n",
        "print(data)\n",
        "print(data['stats']['USA']['orders'])\n",
        "for item in data['stats']['USA']['orders']:\n",
        "  if item['rigsCount'] > 0:\n",
        "    print(item)\n",
        "\n"
      ],
      "metadata": {
        "colab": {
          "base_uri": "https://localhost:8080/"
        },
        "id": "TaVVgZgksOBk",
        "outputId": "f4632e33-ec08-4e26-e1df-348e331d78e6"
      },
      "execution_count": 12,
      "outputs": [
        {
          "output_type": "stream",
          "name": "stdout",
          "text": [
            "{'stats': {'USA': {'updatedTs': '2023-08-31T18:20:37.251360Z', 'totalSpeed': '0.03300237', 'marketFactor': '1000000000000000000.00000000', 'displayMarketFactor': 'EH', 'priceFactor': '1000000000000000000.00000000', 'displayPriceFactor': 'EH', 'orders': [{'id': 'cd5a537f-a669-4d46-8083-3ec371f7f885', 'type': 'STANDARD', 'price': '3.30000000', 'limit': '0.00040000', 'rigsCount': 39, 'acceptedSpeed': '0.00033026', 'payingSpeed': '0.00037173', 'alive': True}, {'id': 'ac12236b-0c75-4ae8-9000-11af828efadd', 'type': 'STANDARD', 'price': '3.10100000', 'limit': '0.00210000', 'rigsCount': 172, 'acceptedSpeed': '0.00222177', 'payingSpeed': '0.00208660', 'alive': True}, {'id': '25016092-3797-4ab0-a20b-8d0e6f0bca93', 'type': 'STANDARD', 'price': '3.10100000', 'limit': '0.00020000', 'rigsCount': 33, 'acceptedSpeed': '0.00015011', 'payingSpeed': '0.00020818', 'alive': True}, {'id': '849337bb-edf3-4484-a8e4-8fcb97d6bd5d', 'type': 'STANDARD', 'price': '3.00000000', 'limit': '0.00400000', 'rigsCount': 326, 'acceptedSpeed': '0.00160528', 'payingSpeed': '0.00386516', 'alive': True}, {'id': '5ab4056d-9112-4ed0-a693-c588af89eb41', 'type': 'STANDARD', 'price': '3.00000000', 'limit': '0.00400000', 'rigsCount': 327, 'acceptedSpeed': '0.00154664', 'payingSpeed': '0.00393402', 'alive': True}, {'id': '6b9daea5-9972-41a4-adba-3d85a1bbd58e', 'type': 'STANDARD', 'price': '2.25000000', 'limit': '0.00010000', 'rigsCount': 22, 'acceptedSpeed': '0.00154653', 'payingSpeed': '0.00135157', 'alive': True}, {'id': '7efd6a17-2fcf-46f7-a5a2-ca06968d78df', 'type': 'STANDARD', 'price': '2.24980000', 'limit': '0.00100000', 'rigsCount': 109, 'acceptedSpeed': '0.00085899', 'payingSpeed': '0.00100810', 'alive': True}, {'id': 'fa8a1072-901e-491b-a9a2-906fdf4a0895', 'type': 'STANDARD', 'price': '2.24640000', 'limit': '0.00100000', 'rigsCount': 109, 'acceptedSpeed': '0.00095205', 'payingSpeed': '0.00098526', 'alive': True}, {'id': '026223b3-74fc-4d6a-9755-9038b3518aea', 'type': 'STANDARD', 'price': '2.24630000', 'limit': '0.00100000', 'rigsCount': 95, 'acceptedSpeed': '0.00084467', 'payingSpeed': '0.00095252', 'alive': True}, {'id': '45daf059-779a-473e-af63-c03d87f82b0f', 'type': 'STANDARD', 'price': '2.24620000', 'limit': '0.00010000', 'rigsCount': 15, 'acceptedSpeed': '0.00008589', 'payingSpeed': '0.00018462', 'alive': True}, {'id': '4da14c47-3a6a-4e93-8817-323e36f22187', 'type': 'STANDARD', 'price': '2.24300000', 'limit': '0.00300000', 'rigsCount': 406, 'acceptedSpeed': '0.00249547', 'payingSpeed': '0.00260234', 'alive': True}, {'id': '5daa39ac-a8ae-42a3-bfc7-ecfd32a947e2', 'type': 'STANDARD', 'price': '2.24220000', 'limit': '0.00080000', 'rigsCount': 85, 'acceptedSpeed': '0.00069805', 'payingSpeed': '0.00065017', 'alive': True}, {'id': '0dc32328-d7a2-4ec8-9083-48f31def4e7a', 'type': 'STANDARD', 'price': '2.24210000', 'limit': '0.00050000', 'rigsCount': 75, 'acceptedSpeed': '0.00033026', 'payingSpeed': '0.00034045', 'alive': True}, {'id': '87a2d6a7-dd97-4e1a-b24a-d691a1d539de', 'type': 'STANDARD', 'price': '2.24210000', 'limit': '0.00010000', 'rigsCount': 2, 'acceptedSpeed': '0.00715827', 'payingSpeed': '0.00686991', 'alive': True}, {'id': '5d40c019-4a2a-4f52-960b-84f15782324e', 'type': 'STANDARD', 'price': '2.24200000', 'limit': '0.00050000', 'rigsCount': 73, 'acceptedSpeed': '0.00044285', 'payingSpeed': '0.00033446', 'alive': True}, {'id': '50d313f0-f47e-4b50-9c2c-ed8aa40bfad8', 'type': 'STANDARD', 'price': '2.24190000', 'limit': '0.00050000', 'rigsCount': 64, 'acceptedSpeed': '0.00025520', 'payingSpeed': '0.00028483', 'alive': True}, {'id': '5ded9861-788b-4318-8991-f165b2eb6e6f', 'type': 'STANDARD', 'price': '2.23290000', 'limit': '0.00010000', 'rigsCount': 14, 'acceptedSpeed': '0.00007158', 'payingSpeed': '0.00006765', 'alive': True}, {'id': '834d72e0-15af-4e0b-9fab-51339e25697f', 'type': 'STANDARD', 'price': '2.23290000', 'limit': '0.00010000', 'rigsCount': 14, 'acceptedSpeed': '0.00004294', 'payingSpeed': '0.00003959', 'alive': True}, {'id': '2e036218-d8a0-48aa-bc17-18fdee73d5eb', 'type': 'STANDARD', 'price': '2.22130000', 'limit': '0.00000000', 'rigsCount': 1177, 'acceptedSpeed': '0.00423770', 'payingSpeed': '0.00422230', 'alive': True}, {'id': 'ef25770d-62b2-4674-a555-3dc2d3144632', 'type': 'STANDARD', 'price': '2.22120000', 'limit': '0.00000000', 'rigsCount': 330, 'acceptedSpeed': '0.00198158', 'payingSpeed': '0.00195396', 'alive': True}, {'id': '0aa45b1d-8ef4-48a8-a425-d2d32030a821', 'type': 'STANDARD', 'price': '2.22110000', 'limit': '0.00000000', 'rigsCount': 18, 'acceptedSpeed': '0.00042949', 'payingSpeed': '0.00066601', 'alive': True}, {'id': 'da2ca804-54fb-44a1-a6b6-ecc29e2670ff', 'type': 'STANDARD', 'price': '2.22100000', 'limit': '0.00000000', 'rigsCount': 0, 'acceptedSpeed': '0.00002251', 'payingSpeed': '0.00002284', 'alive': True}, {'id': 'a67d715c-4c9e-4f5b-bd66-2371cb16d760', 'type': 'STANDARD', 'price': '2.22040000', 'limit': '0.00000000', 'rigsCount': 0, 'acceptedSpeed': '0.00000000', 'payingSpeed': '0.00000000', 'alive': True}, {'id': '37c41f5c-b170-4331-abcc-b1bd07f1bf95', 'type': 'STANDARD', 'price': '2.21760000', 'limit': '0.00010000', 'rigsCount': 0, 'acceptedSpeed': '0.00000000', 'payingSpeed': '0.00000000', 'alive': True}, {'id': 'cf00fd12-6236-4228-8629-852fd70a690f', 'type': 'STANDARD', 'price': '2.20330000', 'limit': '0.00000000', 'rigsCount': 0, 'acceptedSpeed': '0.00000000', 'payingSpeed': '0.00000000', 'alive': True}, {'id': '3bcb0f79-6718-4d26-84bf-b7b89e9e1988', 'type': 'STANDARD', 'price': '2.20320000', 'limit': '0.20000000', 'rigsCount': 0, 'acceptedSpeed': '0.00000000', 'payingSpeed': '0.00000000', 'alive': True}, {'id': '31f43796-05a9-406f-b91e-6d754e134a57', 'type': 'STANDARD', 'price': '2.14770000', 'limit': '0.00000000', 'rigsCount': 0, 'acceptedSpeed': '0.00000000', 'payingSpeed': '0.00000000', 'alive': True}, {'id': '01d14a86-7ed9-4275-8be4-2ce5166dd6ec', 'type': 'STANDARD', 'price': '2.14760000', 'limit': '0.00000000', 'rigsCount': 0, 'acceptedSpeed': '0.00000000', 'payingSpeed': '0.00000000', 'alive': True}, {'id': '92ecf706-31ef-4b5e-8f0e-5e1cb60847a8', 'type': 'STANDARD', 'price': '2.13990000', 'limit': '0.00000000', 'rigsCount': 0, 'acceptedSpeed': '0.00000000', 'payingSpeed': '0.00000000', 'alive': True}, {'id': 'b99f30de-077f-48d6-a41f-ae2342ab3b26', 'type': 'STANDARD', 'price': '2.12980000', 'limit': '0.00010000', 'rigsCount': 0, 'acceptedSpeed': '0.00000000', 'payingSpeed': '0.00000000', 'alive': True}, {'id': 'a2d4dfbd-2647-4950-af71-e639a020141d', 'type': 'STANDARD', 'price': '2.11620000', 'limit': '0.00000000', 'rigsCount': 0, 'acceptedSpeed': '0.00000000', 'payingSpeed': '0.00000000', 'alive': True}, {'id': 'd233ab28-748a-4556-b499-fee98886a8e1', 'type': 'STANDARD', 'price': '2.09000000', 'limit': '0.00010000', 'rigsCount': 0, 'acceptedSpeed': '0.00000000', 'payingSpeed': '0.00000000', 'alive': True}, {'id': 'f9fd68a6-1aa8-4569-b216-de93895f94e3', 'type': 'STANDARD', 'price': '0.11110000', 'limit': '0.00000000', 'rigsCount': 0, 'acceptedSpeed': '0.00000000', 'payingSpeed': '0.00000000', 'alive': True}, {'id': 'c4592a84-3b58-4eda-a3cb-91b0560429c5', 'type': 'STANDARD', 'price': '0.11110000', 'limit': '0.00000000', 'rigsCount': 0, 'acceptedSpeed': '0.00000000', 'payingSpeed': '0.00000000', 'alive': True}, {'id': '7dcf4734-24da-4145-85e2-a696ed604b64', 'type': 'STANDARD', 'price': '0.11110000', 'limit': '0.00000000', 'rigsCount': 0, 'acceptedSpeed': '0.00000000', 'payingSpeed': '0.00000000', 'alive': True}, {'id': 'b59d72de-c134-40d8-8148-c60bed3c5255', 'type': 'STANDARD', 'price': '0.11110000', 'limit': '0.00000000', 'rigsCount': 0, 'acceptedSpeed': '0.00000000', 'payingSpeed': '0.00000000', 'alive': True}, {'id': '15bf9c03-3aca-405f-854f-0e6340f36556', 'type': 'STANDARD', 'price': '0.11110000', 'limit': '0.00000000', 'rigsCount': 0, 'acceptedSpeed': '0.00000000', 'payingSpeed': '0.00000000', 'alive': True}, {'id': 'd767ff2c-cdbc-4924-956c-52addf2b6628', 'type': 'STANDARD', 'price': '0.00220000', 'limit': '0.00000000', 'rigsCount': 0, 'acceptedSpeed': '0.00000000', 'payingSpeed': '0.00000000', 'alive': True}, {'id': '548b434d-9c89-43cb-a88a-61b12c46b33e', 'type': 'STANDARD', 'price': '0.00120000', 'limit': '0.05000000', 'rigsCount': 0, 'acceptedSpeed': '0.00000000', 'payingSpeed': '0.00000000', 'alive': True}, {'id': '8bf6623f-b3f0-432a-bd92-1b9db220f174', 'type': 'STANDARD', 'price': '2.22030000', 'limit': '0.10000000', 'rigsCount': 0, 'acceptedSpeed': '0.00000000', 'payingSpeed': '0.00000000', 'alive': False}, {'id': '28531bbf-fc1a-4f97-94f4-c63a5be5a1fd', 'type': 'STANDARD', 'price': '2.12000000', 'limit': '0.00010000', 'rigsCount': 0, 'acceptedSpeed': '0.00000000', 'payingSpeed': '0.00000000', 'alive': False}, {'id': '65ec2183-0828-433b-97ab-374b8d7488e0', 'type': 'STANDARD', 'price': '2.06810000', 'limit': '0.00010000', 'rigsCount': 0, 'acceptedSpeed': '0.00000000', 'payingSpeed': '0.00000000', 'alive': False}], 'pagination': {'size': 100, 'page': 0, 'totalPageCount': 1}}, 'EU': {'updatedTs': '2023-08-31T18:20:37.251359Z', 'totalSpeed': '0.05145550', 'marketFactor': '1000000000000000000.00000000', 'displayMarketFactor': 'EH', 'priceFactor': '1000000000000000000.00000000', 'displayPriceFactor': 'EH', 'orders': [{'id': '8773d378-cd2c-4d0b-b167-b36cdacb12e0', 'type': 'STANDARD', 'price': '3.79000000', 'limit': '0.00010000', 'rigsCount': 1, 'acceptedSpeed': '0.00005726', 'payingSpeed': '0.00004838', 'alive': True}, {'id': '8bd5c38a-8d15-4dfc-a613-bf1951d901f1', 'type': 'STANDARD', 'price': '3.00000000', 'limit': '0.00400000', 'rigsCount': 333, 'acceptedSpeed': '0.00195335', 'payingSpeed': '0.00430743', 'alive': True}, {'id': '912c1641-3519-4c24-8a8d-e09244cbfe12', 'type': 'STANDARD', 'price': '3.00000000', 'limit': '0.00400000', 'rigsCount': 196, 'acceptedSpeed': '0.00128849', 'payingSpeed': '0.00361795', 'alive': True}, {'id': '0f0ba941-3453-4417-8283-580c69f823af', 'type': 'STANDARD', 'price': '2.49000000', 'limit': '0.00030000', 'rigsCount': 26, 'acceptedSpeed': '0.00023698', 'payingSpeed': '0.00034905', 'alive': True}, {'id': '97856fbc-c947-4905-8c29-e5502b8a90cb', 'type': 'STANDARD', 'price': '2.39010000', 'limit': '0.00010000', 'rigsCount': 10, 'acceptedSpeed': '0.00013028', 'payingSpeed': '0.00009757', 'alive': True}, {'id': '0a461c76-f98f-4bfc-aa57-5d781d46ed55', 'type': 'STANDARD', 'price': '2.38000000', 'limit': '0.00020000', 'rigsCount': 18, 'acceptedSpeed': '0.00014316', 'payingSpeed': '0.00021532', 'alive': True}, {'id': 'fe7d286b-a779-4684-a622-7c3a18db2f8d', 'type': 'STANDARD', 'price': '2.28000000', 'limit': '0.00010000', 'rigsCount': 6, 'acceptedSpeed': '0.00012009', 'payingSpeed': '0.00010479', 'alive': True}, {'id': 'eb7a17d2-0bf6-4d7e-9897-cf17c03d05c3', 'type': 'STANDARD', 'price': '2.24900000', 'limit': '0.00100000', 'rigsCount': 96, 'acceptedSpeed': '0.00075161', 'payingSpeed': '0.00097192', 'alive': True}, {'id': 'f723dc34-3e84-45f8-961c-84c08c27cfae', 'type': 'STANDARD', 'price': '2.24890000', 'limit': '0.00100000', 'rigsCount': 80, 'acceptedSpeed': '0.00101647', 'payingSpeed': '0.00106133', 'alive': True}, {'id': '64a55c55-0527-42dc-8d0c-c6456d0d3eb0', 'type': 'STANDARD', 'price': '2.24880000', 'limit': '0.00100000', 'rigsCount': 106, 'acceptedSpeed': '0.00097352', 'payingSpeed': '0.00107989', 'alive': True}, {'id': '2dc48e80-9d8c-4863-b813-08e78f3de388', 'type': 'STANDARD', 'price': '2.24870000', 'limit': '0.00010000', 'rigsCount': 9, 'acceptedSpeed': '0.00249108', 'payingSpeed': '0.00246243', 'alive': True}, {'id': '801155dd-b77b-4b1b-9210-3178776abfa4', 'type': 'STANDARD', 'price': '2.23340000', 'limit': '0.00080000', 'rigsCount': 109, 'acceptedSpeed': '0.00052541', 'payingSpeed': '0.00054550', 'alive': True}, {'id': 'e6d7b99c-5cd3-4653-a186-44aaac043158', 'type': 'STANDARD', 'price': '2.23330000', 'limit': '0.00050000', 'rigsCount': 40, 'acceptedSpeed': '0.00045786', 'payingSpeed': '0.00050494', 'alive': True}, {'id': 'a83ac3b5-42be-4d6d-9e41-4f378a993bab', 'type': 'STANDARD', 'price': '2.23320000', 'limit': '0.00050000', 'rigsCount': 37, 'acceptedSpeed': '0.00056294', 'payingSpeed': '0.00053310', 'alive': True}, {'id': '5c76aa4a-74fe-4746-ba69-91487856cb2f', 'type': 'STANDARD', 'price': '2.23310000', 'limit': '0.00050000', 'rigsCount': 48, 'acceptedSpeed': '0.00048038', 'payingSpeed': '0.00054421', 'alive': True}, {'id': '0dbaa07c-2bb7-4345-8552-b316c4bfac70', 'type': 'STANDARD', 'price': '2.22470000', 'limit': '0.00500000', 'rigsCount': 101, 'acceptedSpeed': '0.00217703', 'payingSpeed': '0.00201805', 'alive': True}, {'id': 'cee77840-8056-4652-98ad-a59f8b11d059', 'type': 'STANDARD', 'price': '2.22000000', 'limit': '0.00150000', 'rigsCount': 31, 'acceptedSpeed': '0.00147334', 'payingSpeed': '0.00153077', 'alive': True}, {'id': 'a9d5e7a3-f028-4dc9-8e31-7c4ec1f03887', 'type': 'STANDARD', 'price': '2.21830000', 'limit': '0.00000000', 'rigsCount': 1108, 'acceptedSpeed': '0.01208317', 'payingSpeed': '0.01157294', 'alive': True}, {'id': '7aa92417-61b4-46b7-99bd-7c0eac90ec29', 'type': 'STANDARD', 'price': '2.21820000', 'limit': '0.00000000', 'rigsCount': 446, 'acceptedSpeed': '0.00568204', 'payingSpeed': '0.00514763', 'alive': True}, {'id': '945eec94-ca88-4bfa-9924-3757f7834026', 'type': 'STANDARD', 'price': '2.21810000', 'limit': '0.00000000', 'rigsCount': 400, 'acceptedSpeed': '0.00532575', 'payingSpeed': '0.00533829', 'alive': True}, {'id': '0eb39cab-66dd-466b-b3b6-f0aca61989fa', 'type': 'STANDARD', 'price': '2.21800000', 'limit': '0.00000000', 'rigsCount': 380, 'acceptedSpeed': '0.00467623', 'payingSpeed': '0.00484922', 'alive': True}, {'id': '8aee6923-d5fe-4473-92b3-9c1c83ae9b2e', 'type': 'STANDARD', 'price': '2.21660000', 'limit': '0.00000000', 'rigsCount': 312, 'acceptedSpeed': '0.00280604', 'payingSpeed': '0.00248433', 'alive': True}, {'id': '6b737b2e-c61c-476a-85b9-b7bb3c8aaabb', 'type': 'STANDARD', 'price': '2.21590000', 'limit': '0.00000000', 'rigsCount': 95, 'acceptedSpeed': '0.00120259', 'payingSpeed': '0.00151408', 'alive': True}, {'id': '2ace60f3-f1e3-4901-b114-fd978876e07a', 'type': 'STANDARD', 'price': '2.21580000', 'limit': '0.20000000', 'rigsCount': 104, 'acceptedSpeed': '0.00014316', 'payingSpeed': '0.00014407', 'alive': True}, {'id': 'bcd945ce-0c90-4bb6-b443-97ede7e2ca58', 'type': 'STANDARD', 'price': '2.20530000', 'limit': '0.00000000', 'rigsCount': 77, 'acceptedSpeed': '0.00028633', 'payingSpeed': '0.00028857', 'alive': True}, {'id': 'a07e97a3-87bf-43b0-b244-f24e9500d30f', 'type': 'STANDARD', 'price': '2.20520000', 'limit': '0.40000000', 'rigsCount': 0, 'acceptedSpeed': '0.00000000', 'payingSpeed': '0.00001783', 'alive': True}, {'id': '854e056b-9e1f-4278-8a2c-3daa1646c4d8', 'type': 'STANDARD', 'price': '2.20480000', 'limit': '0.00090000', 'rigsCount': 0, 'acceptedSpeed': '0.00000000', 'payingSpeed': '0.00000426', 'alive': True}, {'id': '1229974a-b512-40d0-9ac0-4b89a603a714', 'type': 'STANDARD', 'price': '2.20360000', 'limit': '0.00000000', 'rigsCount': 0, 'acceptedSpeed': '0.00000000', 'payingSpeed': '0.00000083', 'alive': True}, {'id': '117a9d6c-69cf-4690-b883-f5294ff40602', 'type': 'STANDARD', 'price': '2.20350000', 'limit': '0.00000000', 'rigsCount': 0, 'acceptedSpeed': '0.00000000', 'payingSpeed': '0.00000000', 'alive': True}, {'id': 'ab2cf548-1c11-4e08-ab15-559637053787', 'type': 'STANDARD', 'price': '2.20340000', 'limit': '0.00000000', 'rigsCount': 0, 'acceptedSpeed': '0.00000000', 'payingSpeed': '0.00000000', 'alive': True}, {'id': '12307f87-6bb0-4d69-ade1-90caa75b6362', 'type': 'STANDARD', 'price': '2.20330000', 'limit': '0.00000000', 'rigsCount': 0, 'acceptedSpeed': '0.00000000', 'payingSpeed': '0.00000000', 'alive': True}, {'id': 'cb72c352-b970-4298-a43e-d354d9887f65', 'type': 'STANDARD', 'price': '2.13530000', 'limit': '0.00000000', 'rigsCount': 0, 'acceptedSpeed': '0.00000000', 'payingSpeed': '0.00000000', 'alive': True}, {'id': '551aba2c-afaa-4cde-885e-6bd461de2ab1', 'type': 'STANDARD', 'price': '2.12980000', 'limit': '0.00010000', 'rigsCount': 0, 'acceptedSpeed': '0.00000000', 'payingSpeed': '0.00000000', 'alive': True}, {'id': '7d1a5052-8767-4511-b049-de07991f0909', 'type': 'STANDARD', 'price': '2.12010000', 'limit': '0.00010000', 'rigsCount': 0, 'acceptedSpeed': '0.00000000', 'payingSpeed': '0.00000000', 'alive': True}, {'id': 'b1bbd423-57d9-4a5d-af9f-f3575a062a4a', 'type': 'STANDARD', 'price': '2.11990000', 'limit': '0.00000000', 'rigsCount': 0, 'acceptedSpeed': '0.00000000', 'payingSpeed': '0.00000000', 'alive': True}, {'id': '9b1deb42-3d75-4b3e-a769-e1b4d6b64578', 'type': 'STANDARD', 'price': '2.10500000', 'limit': '0.00000000', 'rigsCount': 0, 'acceptedSpeed': '0.00000000', 'payingSpeed': '0.00000000', 'alive': True}, {'id': '31ca2343-a046-4e0e-beb9-ebebb7a9fe54', 'type': 'STANDARD', 'price': '2.00570000', 'limit': '0.00010000', 'rigsCount': 0, 'acceptedSpeed': '0.00000000', 'payingSpeed': '0.00000000', 'alive': True}, {'id': '80b24652-60bc-4c6b-9ab8-91c38a7ac4bf', 'type': 'STANDARD', 'price': '1.52710000', 'limit': '0.05000000', 'rigsCount': 0, 'acceptedSpeed': '0.00000000', 'payingSpeed': '0.00000000', 'alive': True}, {'id': '94595936-bdc2-41d7-8614-8ddcbb1ff60a', 'type': 'STANDARD', 'price': '0.11110000', 'limit': '0.00000000', 'rigsCount': 0, 'acceptedSpeed': '0.00000000', 'payingSpeed': '0.00000000', 'alive': True}, {'id': 'd42990f0-a5ac-43ed-897e-bbcabfce81c9', 'type': 'STANDARD', 'price': '0.11110000', 'limit': '0.00000000', 'rigsCount': 0, 'acceptedSpeed': '0.00000000', 'payingSpeed': '0.00000000', 'alive': True}, {'id': '83abd7b2-ce57-429b-9851-795f74baefa9', 'type': 'STANDARD', 'price': '0.11110000', 'limit': '0.00000000', 'rigsCount': 0, 'acceptedSpeed': '0.00000000', 'payingSpeed': '0.00000000', 'alive': True}, {'id': 'a3a9f866-d633-4eb3-adec-121a8785e936', 'type': 'STANDARD', 'price': '0.00280000', 'limit': '0.00000000', 'rigsCount': 0, 'acceptedSpeed': '0.00000000', 'payingSpeed': '0.00000000', 'alive': True}, {'id': '6cb3c82b-92ad-4d24-b426-88ac6a76f2d8', 'type': 'STANDARD', 'price': '0.00250000', 'limit': '0.00000000', 'rigsCount': 0, 'acceptedSpeed': '0.00000000', 'payingSpeed': '0.00000000', 'alive': True}, {'id': '9ca534bd-b42b-409f-a65d-bc45d66cc377', 'type': 'STANDARD', 'price': '0.00220000', 'limit': '0.00000000', 'rigsCount': 0, 'acceptedSpeed': '0.00000000', 'payingSpeed': '0.00000000', 'alive': True}, {'id': '4d453f1d-cde3-4acb-adf5-7a0ed10ff35b', 'type': 'STANDARD', 'price': '0.00200000', 'limit': '0.00000000', 'rigsCount': 0, 'acceptedSpeed': '0.00000000', 'payingSpeed': '0.00000000', 'alive': True}, {'id': 'da35a83a-0a80-429b-aa36-9ac8e8117914', 'type': 'STANDARD', 'price': '0.00180000', 'limit': '0.00000000', 'rigsCount': 0, 'acceptedSpeed': '0.00000000', 'payingSpeed': '0.00000000', 'alive': True}, {'id': '0b961c1c-907f-4950-93c1-0b2d8a16c413', 'type': 'STANDARD', 'price': '0.00110000', 'limit': '0.00010000', 'rigsCount': 0, 'acceptedSpeed': '0.00000000', 'payingSpeed': '0.00000000', 'alive': True}, {'id': '69d6f6a3-224c-4fa0-9e7a-26720b95fbc9', 'type': 'STANDARD', 'price': '0.00100000', 'limit': '0.00010000', 'rigsCount': 0, 'acceptedSpeed': '0.00000000', 'payingSpeed': '0.00000000', 'alive': True}, {'id': 'fb165c63-18cd-4888-b807-dd67cdec5a04', 'type': 'STANDARD', 'price': '2.21650000', 'limit': '0.00000000', 'rigsCount': 0, 'acceptedSpeed': '0.00010737', 'payingSpeed': '0.00010069', 'alive': False}], 'pagination': {'size': 100, 'page': 0, 'totalPageCount': 1}}}}\n",
            "[{'id': 'cd5a537f-a669-4d46-8083-3ec371f7f885', 'type': 'STANDARD', 'price': '3.30000000', 'limit': '0.00040000', 'rigsCount': 39, 'acceptedSpeed': '0.00033026', 'payingSpeed': '0.00037173', 'alive': True}, {'id': 'ac12236b-0c75-4ae8-9000-11af828efadd', 'type': 'STANDARD', 'price': '3.10100000', 'limit': '0.00210000', 'rigsCount': 172, 'acceptedSpeed': '0.00222177', 'payingSpeed': '0.00208660', 'alive': True}, {'id': '25016092-3797-4ab0-a20b-8d0e6f0bca93', 'type': 'STANDARD', 'price': '3.10100000', 'limit': '0.00020000', 'rigsCount': 33, 'acceptedSpeed': '0.00015011', 'payingSpeed': '0.00020818', 'alive': True}, {'id': '849337bb-edf3-4484-a8e4-8fcb97d6bd5d', 'type': 'STANDARD', 'price': '3.00000000', 'limit': '0.00400000', 'rigsCount': 326, 'acceptedSpeed': '0.00160528', 'payingSpeed': '0.00386516', 'alive': True}, {'id': '5ab4056d-9112-4ed0-a693-c588af89eb41', 'type': 'STANDARD', 'price': '3.00000000', 'limit': '0.00400000', 'rigsCount': 327, 'acceptedSpeed': '0.00154664', 'payingSpeed': '0.00393402', 'alive': True}, {'id': '6b9daea5-9972-41a4-adba-3d85a1bbd58e', 'type': 'STANDARD', 'price': '2.25000000', 'limit': '0.00010000', 'rigsCount': 22, 'acceptedSpeed': '0.00154653', 'payingSpeed': '0.00135157', 'alive': True}, {'id': '7efd6a17-2fcf-46f7-a5a2-ca06968d78df', 'type': 'STANDARD', 'price': '2.24980000', 'limit': '0.00100000', 'rigsCount': 109, 'acceptedSpeed': '0.00085899', 'payingSpeed': '0.00100810', 'alive': True}, {'id': 'fa8a1072-901e-491b-a9a2-906fdf4a0895', 'type': 'STANDARD', 'price': '2.24640000', 'limit': '0.00100000', 'rigsCount': 109, 'acceptedSpeed': '0.00095205', 'payingSpeed': '0.00098526', 'alive': True}, {'id': '026223b3-74fc-4d6a-9755-9038b3518aea', 'type': 'STANDARD', 'price': '2.24630000', 'limit': '0.00100000', 'rigsCount': 95, 'acceptedSpeed': '0.00084467', 'payingSpeed': '0.00095252', 'alive': True}, {'id': '45daf059-779a-473e-af63-c03d87f82b0f', 'type': 'STANDARD', 'price': '2.24620000', 'limit': '0.00010000', 'rigsCount': 15, 'acceptedSpeed': '0.00008589', 'payingSpeed': '0.00018462', 'alive': True}, {'id': '4da14c47-3a6a-4e93-8817-323e36f22187', 'type': 'STANDARD', 'price': '2.24300000', 'limit': '0.00300000', 'rigsCount': 406, 'acceptedSpeed': '0.00249547', 'payingSpeed': '0.00260234', 'alive': True}, {'id': '5daa39ac-a8ae-42a3-bfc7-ecfd32a947e2', 'type': 'STANDARD', 'price': '2.24220000', 'limit': '0.00080000', 'rigsCount': 85, 'acceptedSpeed': '0.00069805', 'payingSpeed': '0.00065017', 'alive': True}, {'id': '0dc32328-d7a2-4ec8-9083-48f31def4e7a', 'type': 'STANDARD', 'price': '2.24210000', 'limit': '0.00050000', 'rigsCount': 75, 'acceptedSpeed': '0.00033026', 'payingSpeed': '0.00034045', 'alive': True}, {'id': '87a2d6a7-dd97-4e1a-b24a-d691a1d539de', 'type': 'STANDARD', 'price': '2.24210000', 'limit': '0.00010000', 'rigsCount': 2, 'acceptedSpeed': '0.00715827', 'payingSpeed': '0.00686991', 'alive': True}, {'id': '5d40c019-4a2a-4f52-960b-84f15782324e', 'type': 'STANDARD', 'price': '2.24200000', 'limit': '0.00050000', 'rigsCount': 73, 'acceptedSpeed': '0.00044285', 'payingSpeed': '0.00033446', 'alive': True}, {'id': '50d313f0-f47e-4b50-9c2c-ed8aa40bfad8', 'type': 'STANDARD', 'price': '2.24190000', 'limit': '0.00050000', 'rigsCount': 64, 'acceptedSpeed': '0.00025520', 'payingSpeed': '0.00028483', 'alive': True}, {'id': '5ded9861-788b-4318-8991-f165b2eb6e6f', 'type': 'STANDARD', 'price': '2.23290000', 'limit': '0.00010000', 'rigsCount': 14, 'acceptedSpeed': '0.00007158', 'payingSpeed': '0.00006765', 'alive': True}, {'id': '834d72e0-15af-4e0b-9fab-51339e25697f', 'type': 'STANDARD', 'price': '2.23290000', 'limit': '0.00010000', 'rigsCount': 14, 'acceptedSpeed': '0.00004294', 'payingSpeed': '0.00003959', 'alive': True}, {'id': '2e036218-d8a0-48aa-bc17-18fdee73d5eb', 'type': 'STANDARD', 'price': '2.22130000', 'limit': '0.00000000', 'rigsCount': 1177, 'acceptedSpeed': '0.00423770', 'payingSpeed': '0.00422230', 'alive': True}, {'id': 'ef25770d-62b2-4674-a555-3dc2d3144632', 'type': 'STANDARD', 'price': '2.22120000', 'limit': '0.00000000', 'rigsCount': 330, 'acceptedSpeed': '0.00198158', 'payingSpeed': '0.00195396', 'alive': True}, {'id': '0aa45b1d-8ef4-48a8-a425-d2d32030a821', 'type': 'STANDARD', 'price': '2.22110000', 'limit': '0.00000000', 'rigsCount': 18, 'acceptedSpeed': '0.00042949', 'payingSpeed': '0.00066601', 'alive': True}, {'id': 'da2ca804-54fb-44a1-a6b6-ecc29e2670ff', 'type': 'STANDARD', 'price': '2.22100000', 'limit': '0.00000000', 'rigsCount': 0, 'acceptedSpeed': '0.00002251', 'payingSpeed': '0.00002284', 'alive': True}, {'id': 'a67d715c-4c9e-4f5b-bd66-2371cb16d760', 'type': 'STANDARD', 'price': '2.22040000', 'limit': '0.00000000', 'rigsCount': 0, 'acceptedSpeed': '0.00000000', 'payingSpeed': '0.00000000', 'alive': True}, {'id': '37c41f5c-b170-4331-abcc-b1bd07f1bf95', 'type': 'STANDARD', 'price': '2.21760000', 'limit': '0.00010000', 'rigsCount': 0, 'acceptedSpeed': '0.00000000', 'payingSpeed': '0.00000000', 'alive': True}, {'id': 'cf00fd12-6236-4228-8629-852fd70a690f', 'type': 'STANDARD', 'price': '2.20330000', 'limit': '0.00000000', 'rigsCount': 0, 'acceptedSpeed': '0.00000000', 'payingSpeed': '0.00000000', 'alive': True}, {'id': '3bcb0f79-6718-4d26-84bf-b7b89e9e1988', 'type': 'STANDARD', 'price': '2.20320000', 'limit': '0.20000000', 'rigsCount': 0, 'acceptedSpeed': '0.00000000', 'payingSpeed': '0.00000000', 'alive': True}, {'id': '31f43796-05a9-406f-b91e-6d754e134a57', 'type': 'STANDARD', 'price': '2.14770000', 'limit': '0.00000000', 'rigsCount': 0, 'acceptedSpeed': '0.00000000', 'payingSpeed': '0.00000000', 'alive': True}, {'id': '01d14a86-7ed9-4275-8be4-2ce5166dd6ec', 'type': 'STANDARD', 'price': '2.14760000', 'limit': '0.00000000', 'rigsCount': 0, 'acceptedSpeed': '0.00000000', 'payingSpeed': '0.00000000', 'alive': True}, {'id': '92ecf706-31ef-4b5e-8f0e-5e1cb60847a8', 'type': 'STANDARD', 'price': '2.13990000', 'limit': '0.00000000', 'rigsCount': 0, 'acceptedSpeed': '0.00000000', 'payingSpeed': '0.00000000', 'alive': True}, {'id': 'b99f30de-077f-48d6-a41f-ae2342ab3b26', 'type': 'STANDARD', 'price': '2.12980000', 'limit': '0.00010000', 'rigsCount': 0, 'acceptedSpeed': '0.00000000', 'payingSpeed': '0.00000000', 'alive': True}, {'id': 'a2d4dfbd-2647-4950-af71-e639a020141d', 'type': 'STANDARD', 'price': '2.11620000', 'limit': '0.00000000', 'rigsCount': 0, 'acceptedSpeed': '0.00000000', 'payingSpeed': '0.00000000', 'alive': True}, {'id': 'd233ab28-748a-4556-b499-fee98886a8e1', 'type': 'STANDARD', 'price': '2.09000000', 'limit': '0.00010000', 'rigsCount': 0, 'acceptedSpeed': '0.00000000', 'payingSpeed': '0.00000000', 'alive': True}, {'id': 'f9fd68a6-1aa8-4569-b216-de93895f94e3', 'type': 'STANDARD', 'price': '0.11110000', 'limit': '0.00000000', 'rigsCount': 0, 'acceptedSpeed': '0.00000000', 'payingSpeed': '0.00000000', 'alive': True}, {'id': 'c4592a84-3b58-4eda-a3cb-91b0560429c5', 'type': 'STANDARD', 'price': '0.11110000', 'limit': '0.00000000', 'rigsCount': 0, 'acceptedSpeed': '0.00000000', 'payingSpeed': '0.00000000', 'alive': True}, {'id': '7dcf4734-24da-4145-85e2-a696ed604b64', 'type': 'STANDARD', 'price': '0.11110000', 'limit': '0.00000000', 'rigsCount': 0, 'acceptedSpeed': '0.00000000', 'payingSpeed': '0.00000000', 'alive': True}, {'id': 'b59d72de-c134-40d8-8148-c60bed3c5255', 'type': 'STANDARD', 'price': '0.11110000', 'limit': '0.00000000', 'rigsCount': 0, 'acceptedSpeed': '0.00000000', 'payingSpeed': '0.00000000', 'alive': True}, {'id': '15bf9c03-3aca-405f-854f-0e6340f36556', 'type': 'STANDARD', 'price': '0.11110000', 'limit': '0.00000000', 'rigsCount': 0, 'acceptedSpeed': '0.00000000', 'payingSpeed': '0.00000000', 'alive': True}, {'id': 'd767ff2c-cdbc-4924-956c-52addf2b6628', 'type': 'STANDARD', 'price': '0.00220000', 'limit': '0.00000000', 'rigsCount': 0, 'acceptedSpeed': '0.00000000', 'payingSpeed': '0.00000000', 'alive': True}, {'id': '548b434d-9c89-43cb-a88a-61b12c46b33e', 'type': 'STANDARD', 'price': '0.00120000', 'limit': '0.05000000', 'rigsCount': 0, 'acceptedSpeed': '0.00000000', 'payingSpeed': '0.00000000', 'alive': True}, {'id': '8bf6623f-b3f0-432a-bd92-1b9db220f174', 'type': 'STANDARD', 'price': '2.22030000', 'limit': '0.10000000', 'rigsCount': 0, 'acceptedSpeed': '0.00000000', 'payingSpeed': '0.00000000', 'alive': False}, {'id': '28531bbf-fc1a-4f97-94f4-c63a5be5a1fd', 'type': 'STANDARD', 'price': '2.12000000', 'limit': '0.00010000', 'rigsCount': 0, 'acceptedSpeed': '0.00000000', 'payingSpeed': '0.00000000', 'alive': False}, {'id': '65ec2183-0828-433b-97ab-374b8d7488e0', 'type': 'STANDARD', 'price': '2.06810000', 'limit': '0.00010000', 'rigsCount': 0, 'acceptedSpeed': '0.00000000', 'payingSpeed': '0.00000000', 'alive': False}]\n",
            "{'id': 'cd5a537f-a669-4d46-8083-3ec371f7f885', 'type': 'STANDARD', 'price': '3.30000000', 'limit': '0.00040000', 'rigsCount': 39, 'acceptedSpeed': '0.00033026', 'payingSpeed': '0.00037173', 'alive': True}\n",
            "{'id': 'ac12236b-0c75-4ae8-9000-11af828efadd', 'type': 'STANDARD', 'price': '3.10100000', 'limit': '0.00210000', 'rigsCount': 172, 'acceptedSpeed': '0.00222177', 'payingSpeed': '0.00208660', 'alive': True}\n",
            "{'id': '25016092-3797-4ab0-a20b-8d0e6f0bca93', 'type': 'STANDARD', 'price': '3.10100000', 'limit': '0.00020000', 'rigsCount': 33, 'acceptedSpeed': '0.00015011', 'payingSpeed': '0.00020818', 'alive': True}\n",
            "{'id': '849337bb-edf3-4484-a8e4-8fcb97d6bd5d', 'type': 'STANDARD', 'price': '3.00000000', 'limit': '0.00400000', 'rigsCount': 326, 'acceptedSpeed': '0.00160528', 'payingSpeed': '0.00386516', 'alive': True}\n",
            "{'id': '5ab4056d-9112-4ed0-a693-c588af89eb41', 'type': 'STANDARD', 'price': '3.00000000', 'limit': '0.00400000', 'rigsCount': 327, 'acceptedSpeed': '0.00154664', 'payingSpeed': '0.00393402', 'alive': True}\n",
            "{'id': '6b9daea5-9972-41a4-adba-3d85a1bbd58e', 'type': 'STANDARD', 'price': '2.25000000', 'limit': '0.00010000', 'rigsCount': 22, 'acceptedSpeed': '0.00154653', 'payingSpeed': '0.00135157', 'alive': True}\n",
            "{'id': '7efd6a17-2fcf-46f7-a5a2-ca06968d78df', 'type': 'STANDARD', 'price': '2.24980000', 'limit': '0.00100000', 'rigsCount': 109, 'acceptedSpeed': '0.00085899', 'payingSpeed': '0.00100810', 'alive': True}\n",
            "{'id': 'fa8a1072-901e-491b-a9a2-906fdf4a0895', 'type': 'STANDARD', 'price': '2.24640000', 'limit': '0.00100000', 'rigsCount': 109, 'acceptedSpeed': '0.00095205', 'payingSpeed': '0.00098526', 'alive': True}\n",
            "{'id': '026223b3-74fc-4d6a-9755-9038b3518aea', 'type': 'STANDARD', 'price': '2.24630000', 'limit': '0.00100000', 'rigsCount': 95, 'acceptedSpeed': '0.00084467', 'payingSpeed': '0.00095252', 'alive': True}\n",
            "{'id': '45daf059-779a-473e-af63-c03d87f82b0f', 'type': 'STANDARD', 'price': '2.24620000', 'limit': '0.00010000', 'rigsCount': 15, 'acceptedSpeed': '0.00008589', 'payingSpeed': '0.00018462', 'alive': True}\n",
            "{'id': '4da14c47-3a6a-4e93-8817-323e36f22187', 'type': 'STANDARD', 'price': '2.24300000', 'limit': '0.00300000', 'rigsCount': 406, 'acceptedSpeed': '0.00249547', 'payingSpeed': '0.00260234', 'alive': True}\n",
            "{'id': '5daa39ac-a8ae-42a3-bfc7-ecfd32a947e2', 'type': 'STANDARD', 'price': '2.24220000', 'limit': '0.00080000', 'rigsCount': 85, 'acceptedSpeed': '0.00069805', 'payingSpeed': '0.00065017', 'alive': True}\n",
            "{'id': '0dc32328-d7a2-4ec8-9083-48f31def4e7a', 'type': 'STANDARD', 'price': '2.24210000', 'limit': '0.00050000', 'rigsCount': 75, 'acceptedSpeed': '0.00033026', 'payingSpeed': '0.00034045', 'alive': True}\n",
            "{'id': '87a2d6a7-dd97-4e1a-b24a-d691a1d539de', 'type': 'STANDARD', 'price': '2.24210000', 'limit': '0.00010000', 'rigsCount': 2, 'acceptedSpeed': '0.00715827', 'payingSpeed': '0.00686991', 'alive': True}\n",
            "{'id': '5d40c019-4a2a-4f52-960b-84f15782324e', 'type': 'STANDARD', 'price': '2.24200000', 'limit': '0.00050000', 'rigsCount': 73, 'acceptedSpeed': '0.00044285', 'payingSpeed': '0.00033446', 'alive': True}\n",
            "{'id': '50d313f0-f47e-4b50-9c2c-ed8aa40bfad8', 'type': 'STANDARD', 'price': '2.24190000', 'limit': '0.00050000', 'rigsCount': 64, 'acceptedSpeed': '0.00025520', 'payingSpeed': '0.00028483', 'alive': True}\n",
            "{'id': '5ded9861-788b-4318-8991-f165b2eb6e6f', 'type': 'STANDARD', 'price': '2.23290000', 'limit': '0.00010000', 'rigsCount': 14, 'acceptedSpeed': '0.00007158', 'payingSpeed': '0.00006765', 'alive': True}\n",
            "{'id': '834d72e0-15af-4e0b-9fab-51339e25697f', 'type': 'STANDARD', 'price': '2.23290000', 'limit': '0.00010000', 'rigsCount': 14, 'acceptedSpeed': '0.00004294', 'payingSpeed': '0.00003959', 'alive': True}\n",
            "{'id': '2e036218-d8a0-48aa-bc17-18fdee73d5eb', 'type': 'STANDARD', 'price': '2.22130000', 'limit': '0.00000000', 'rigsCount': 1177, 'acceptedSpeed': '0.00423770', 'payingSpeed': '0.00422230', 'alive': True}\n",
            "{'id': 'ef25770d-62b2-4674-a555-3dc2d3144632', 'type': 'STANDARD', 'price': '2.22120000', 'limit': '0.00000000', 'rigsCount': 330, 'acceptedSpeed': '0.00198158', 'payingSpeed': '0.00195396', 'alive': True}\n",
            "{'id': '0aa45b1d-8ef4-48a8-a425-d2d32030a821', 'type': 'STANDARD', 'price': '2.22110000', 'limit': '0.00000000', 'rigsCount': 18, 'acceptedSpeed': '0.00042949', 'payingSpeed': '0.00066601', 'alive': True}\n"
          ]
        }
      ]
    },
    {
      "cell_type": "code",
      "source": [
        "def get_top_coins(algo):\n",
        "    url = f\"https://api.minerstat.com/v2/coins?algo={algo}\"\n",
        "\n",
        "    response = requests.get(url)\n",
        "    data = response.json()\n",
        "    return data\n",
        "\n",
        "algo = \"SHA-256\"\n",
        "top_coins = get_top_coins(algo)\n",
        "print(top_coins)\n",
        "for item in top_coins:\n",
        "    print(item)\n",
        "    print(item['reward'] * item['price'])\n",
        "\n"
      ],
      "metadata": {
        "id": "7w14mMbqwJJr",
        "colab": {
          "base_uri": "https://localhost:8080/"
        },
        "outputId": "2ba7dc05-10ee-4634-aca7-4de1fa5acf1e"
      },
      "execution_count": 13,
      "outputs": [
        {
          "output_type": "stream",
          "name": "stdout",
          "text": [
            "[{'id': 'a60b37f5ee2928b9d0b98430b7e7a54d920d717a', 'coin': 'ANTPOOL BTC', 'name': 'AntPool', 'type': 'pool', 'algorithm': 'SHA-256', 'network_hashrate': -1, 'difficulty': -1, 'reward': 9.5833333333333e-20, 'reward_unit': 'BTC', 'reward_block': -1, 'price': 26332.622147215, 'volume': -1, 'updated': 1693504802}, {'id': '627a53ff2ebe79d72a07208bb7e87231675828b8', 'coin': 'BCH', 'name': 'Bitcoin Cash', 'type': 'coin', 'algorithm': 'SHA-256', 'network_hashrate': 3.02e+18, 'difficulty': 428660205276.1213, 'reward': 1.2225323711508e-17, 'reward_unit': 'BCH', 'reward_block': 6.25217169, 'price': 207.69754233318, 'volume': 237868827.50571, 'updated': 1693504462}, {'id': '0ee91e856ac5f08f7bd588033e53080939edca16', 'coin': 'BINANCE BCH', 'name': 'Binance', 'type': 'pool', 'algorithm': 'SHA-256', 'network_hashrate': -1, 'difficulty': -1, 'reward': 1.2237083333333e-17, 'reward_unit': 'BCH', 'reward_block': -1, 'price': 207.69754233318, 'volume': -1, 'updated': 1693504802}, {'id': 'c5f9a23bccda8b028e7d4a6a639e629e891818f7', 'coin': 'BINANCE BTC', 'name': 'Binance', 'type': 'pool', 'algorithm': 'SHA-256', 'network_hashrate': -1, 'difficulty': -1, 'reward': 9.6431874270277e-20, 'reward_unit': 'BTC', 'reward_block': -1, 'price': 26332.622147215, 'volume': -1, 'updated': 1693504802}, {'id': 'f6d21ac6373d0cbb55c9e7362672391cfe6ec168', 'coin': 'BSV', 'name': 'Bitcoin SV', 'type': 'coin', 'algorithm': 'SHA-256', 'network_hashrate': -1, 'difficulty': 70478757070.51952, 'reward': 7.4343938238458e-17, 'reward_unit': 'BSV', 'reward_block': 6.25116785, 'price': 31.724902907439, 'volume': 29805735.197033, 'updated': 1693504457}, {'id': 'a195fd59ce0ebc3f9b2d99b3c396ff198bcb4a5e', 'coin': 'BTC', 'name': 'Bitcoin', 'type': 'coin', 'algorithm': 'SHA-256', 'network_hashrate': 3.7050423603829e+20, 'difficulty': 55621444139429, 'reward': 9.4184708133072e-20, 'reward_unit': 'BTC', 'reward_block': 6.25, 'price': 26332.622147215, 'volume': 14437155979.412, 'updated': 1693504452}, {'id': 'd84d63b8aecc4fa6d7e88be2749bce442eda7059', 'coin': 'DGC', 'name': 'Digitalcoin', 'type': 'coin', 'algorithm': 'SHA-256', 'network_hashrate': -1, 'difficulty': 450681.908309679, 'reward': 4.6495671431411e-12, 'reward_unit': 'DGC', 'reward_block': 2.5, 'price': 0.00109999, 'volume': 0.92362, 'updated': 1693504463}, {'id': '7995c3996665afa7d3e0138f51aa68f50b22dac3', 'coin': 'ELA', 'name': 'Elastos', 'type': 'coin', 'algorithm': 'SHA-256', 'network_hashrate': 321943734555.63, 'difficulty': 8203693538799.4, 'reward': 8.3666213766722e-20, 'reward_unit': 'ELA', 'reward_block': 0.81887366538, 'price': 1.5014165594899, 'volume': 280132.93066089, 'updated': 1693504471}, {'id': '35e9e574ca3f6bd5bd4b4ee5f6dc9906122c2142', 'coin': 'HASHC SHA-256', 'name': 'HashCryptos', 'type': 'pool', 'algorithm': 'SHA-256', 'network_hashrate': -1, 'difficulty': -1, 'reward': 9.6152081571468e-20, 'reward_unit': 'BTC', 'reward_block': -1, 'price': 26332.622147215, 'volume': -1, 'updated': 1693504802}, {'id': 'abb23eed7ec51b5c5daed89e9344d20d9b1210c1', 'coin': 'HIVEON BTC', 'name': 'Hiveon', 'type': 'pool', 'algorithm': 'SHA-256', 'network_hashrate': -1, 'difficulty': -1, 'reward': 9.4629688570833e-20, 'reward_unit': 'BTC', 'reward_block': -1, 'price': 26332.622147215, 'volume': -1, 'updated': 1693504802}, {'id': '1d98000d33fdd1332fc23999989be9faa4f50793', 'coin': 'LCN', 'name': 'Lyncoin', 'type': 'coin', 'algorithm': 'SHA-256', 'network_hashrate': 6.0286528610092e+17, 'difficulty': 51749146288.797, 'reward': 2.9848071367041e-12, 'reward_unit': 'LCN', 'reward_block': 184279.41482982, 'price': 6.7914689385762e-06, 'volume': None, 'updated': 1693504472}, {'id': 'a808d1e1a45d31a815634909bf53109ce5c3b52b', 'coin': 'MD SHA-256', 'name': 'Mining Dutch', 'type': 'pool', 'algorithm': 'SHA-256', 'network_hashrate': -1, 'difficulty': -1, 'reward': 9.625e-20, 'reward_unit': 'BTC', 'reward_block': -1, 'price': 26332.622147215, 'volume': -1, 'updated': 1693504802}, {'id': '2b5bf3abaa149ad5cc93bc91d754b3f774e807bc', 'coin': 'MRR SHA-256', 'name': 'Mining Rig Rentals', 'type': 'pool', 'algorithm': 'SHA-256', 'network_hashrate': -1, 'difficulty': -1, 'reward': 1.3375e-19, 'reward_unit': 'BTC', 'reward_block': -1, 'price': 26332.622147215, 'volume': -1, 'updated': 1693504802}, {'id': '0370876fb003e5f6b6a069c91662b9dec0cd7c66', 'coin': 'MZC', 'name': 'Maza', 'type': 'coin', 'algorithm': 'SHA-256', 'network_hashrate': 495548300000000, 'difficulty': 38378306.314149, 'reward': 8.1900794355467e-12, 'reward_unit': 'MZC', 'reward_block': 375.00001, 'price': 0.00051722, 'volume': 361.16, 'updated': 1693504480}, {'id': '76d1990ecdfaaac415161d40d423b8048a6091c0', 'coin': 'NH SHA-256', 'name': 'NiceHash', 'type': 'pool', 'algorithm': 'SHA-256', 'network_hashrate': -1, 'difficulty': -1, 'reward': 9.9461466344695e-20, 'reward_unit': 'BTC', 'reward_block': -1, 'price': 26332.622147215, 'volume': -1, 'updated': 1693504802}, {'id': '662aff88901045fc312477e2a68421cfc4fd1a2f', 'coin': 'NMC', 'name': 'Namecoin', 'type': 'coin', 'algorithm': 'SHA-256', 'network_hashrate': 1.9533478493038e+20, 'difficulty': 33020717714014.11, 'reward': 1.5864856504887e-19, 'reward_unit': 'NMC', 'reward_block': 6.25, 'price': 1.4058333628219, 'volume': 6316.6658383599, 'updated': 1693504478}, {'id': '54e8872f60dd7618b624c8c5c66f05968f9bbde2', 'coin': 'POOLIN BTC', 'name': 'Poolin', 'type': 'pool', 'algorithm': 'SHA-256', 'network_hashrate': -1, 'difficulty': -1, 'reward': 9.7083333333333e-20, 'reward_unit': 'BTC', 'reward_block': -1, 'price': 26332.622147215, 'volume': -1, 'updated': 1693504802}, {'id': 'e48b6d5f287323243f35240e06ffd078cf94d146', 'coin': 'PPC', 'name': 'Peercoin', 'type': 'coin', 'algorithm': 'SHA-256', 'network_hashrate': 4040492246369900, 'difficulty': 3998787903.5554, 'reward': 8.3341371970264e-15, 'reward_unit': 'PPC', 'reward_block': 39.76, 'price': 0.31312309167585, 'volume': 1828.4449841186, 'updated': 1693504483}, {'id': 'bace504c1c5834b70540d42042d5573f96582fe6', 'coin': 'PROH SHA-256', 'name': 'Prohashing', 'type': 'pool', 'algorithm': 'SHA-256', 'network_hashrate': -1, 'difficulty': -1, 'reward': 8.4029166666667e-20, 'reward_unit': 'BTC', 'reward_block': -1, 'price': 26332.622147215, 'volume': -1, 'updated': 1693504802}, {'id': 'd14fcea13f3c91941d6bdb62848e1609d7a5ed90', 'coin': 'SMLY', 'name': 'SmileyCoin', 'type': 'coin', 'algorithm': 'SHA-256', 'network_hashrate': -1, 'difficulty': 8759798.3568629, 'reward': 4.7843014359871e-11, 'reward_unit': 'SMLY', 'reward_block': 500, 'price': 2.6355341287936e-05, 'volume': 34.311323730704, 'updated': 1693504500}, {'id': '8e42ae4544bc0f8451a16f9191e2f84f2ad554f6', 'coin': 'SPIDER BTC', 'name': 'Spider', 'type': 'pool', 'algorithm': 'SHA-256', 'network_hashrate': -1, 'difficulty': -1, 'reward': 9.375e-20, 'reward_unit': 'BTC', 'reward_block': -1, 'price': 26332.622147215, 'volume': -1, 'updated': 1693504802}, {'id': '72b2ca5b2c46ad2a1eff1153428c1ff8c4bdf47c', 'coin': 'SYS', 'name': 'Syscoin', 'type': 'coin', 'algorithm': 'SHA-256', 'network_hashrate': 8.1532750330321e+19, 'difficulty': 2890590553357.7, 'reward': 2.3197759812237e-18, 'reward_unit': 'SYS', 'reward_block': 8, 'price': 0.09129506940196, 'volume': 1678512.7526271, 'updated': 1693504473}, {'id': '36f1c57eaba0f036bcc46abeac3207d684d250b8', 'coin': 'TRC', 'name': 'TRC', 'type': 'coin', 'algorithm': 'SHA-256', 'network_hashrate': 40117417646554000, 'difficulty': 1605923198.157, 'reward': 1.1743576627828e-15, 'reward_unit': 'TRC', 'reward_block': 2.25, 'price': 0, 'volume': None, 'updated': 1693504478}, {'id': '3ce2fc71f2475da0ffc3eb96bc79dea3e9dc6145', 'coin': 'UNO', 'name': 'UNO', 'type': 'coin', 'algorithm': 'SHA-256', 'network_hashrate': 13643409653222000, 'difficulty': 521238142.20517, 'reward': 1.6080755594897e-17, 'reward_unit': 'UNO', 'reward_block': 0.01, 'price': 0, 'volume': None, 'updated': 1693504473}, {'id': '81cc54f95e5cdd4c6219ac819b211f7c2fa8faf2', 'coin': 'VCASH', 'name': 'VCASH', 'type': 'coin', 'algorithm': 'SHA-256', 'network_hashrate': 1.0147643966302e+19, 'difficulty': 1715426604601, 'reward': 4.8861916616298e-18, 'reward_unit': 'VCASH', 'reward_block': 10, 'price': 0.00079401, 'volume': None, 'updated': 1693504494}, {'id': '06dd929a9f49834d8da9d7635032c62430263282', 'coin': 'VEIL', 'name': 'VEIL', 'type': 'coin', 'algorithm': 'SHA-256', 'network_hashrate': 1.9403145215373e+19, 'difficulty': 1009.772745386855, 'reward': 1.9326763565264e-18, 'reward_unit': 'VEIL', 'reward_block': 10, 'price': 0.0029153771789676, 'volume': 122.93862117984, 'updated': 1693504479}, {'id': '7b8978a6ab110d91bf85e900420a7b85a5b032dc', 'coin': 'VIABTC BTC', 'name': 'ViaBTC', 'type': 'pool', 'algorithm': 'SHA-256', 'network_hashrate': -1, 'difficulty': -1, 'reward': 9.625e-20, 'reward_unit': 'BTC', 'reward_block': -1, 'price': 26332.622147215, 'volume': -1, 'updated': 1693504802}, {'id': '1941a10c978ba4fe599e280f840ffca55001ec05', 'coin': 'ZP SHA-256', 'name': 'Zergpool', 'type': 'pool', 'algorithm': 'SHA-256', 'network_hashrate': -1, 'difficulty': -1, 'reward': 9.50425e-20, 'reward_unit': 'BTC', 'reward_block': -1, 'price': 26332.622147215, 'volume': -1, 'updated': 1693504802}, {'id': 'c1a270c5c4c88bed3d37063be30e71fc1d5f636f', 'coin': 'zpool SHA-256', 'name': 'zpool', 'type': 'pool', 'algorithm': 'SHA-256', 'network_hashrate': -1, 'difficulty': -1, 'reward': 8.7527916666667e-20, 'reward_unit': 'BTC', 'reward_block': -1, 'price': 26332.622147215, 'volume': -1, 'updated': 1693504802}]\n",
            "{'id': 'a60b37f5ee2928b9d0b98430b7e7a54d920d717a', 'coin': 'ANTPOOL BTC', 'name': 'AntPool', 'type': 'pool', 'algorithm': 'SHA-256', 'network_hashrate': -1, 'difficulty': -1, 'reward': 9.5833333333333e-20, 'reward_unit': 'BTC', 'reward_block': -1, 'price': 26332.622147215, 'volume': -1, 'updated': 1693504802}\n",
            "2.5235429557747622e-15\n",
            "{'id': '627a53ff2ebe79d72a07208bb7e87231675828b8', 'coin': 'BCH', 'name': 'Bitcoin Cash', 'type': 'coin', 'algorithm': 'SHA-256', 'network_hashrate': 3.02e+18, 'difficulty': 428660205276.1213, 'reward': 1.2225323711508e-17, 'reward_unit': 'BCH', 'reward_block': 6.25217169, 'price': 207.69754233318, 'volume': 237868827.50571, 'updated': 1693504462}\n",
            "2.539169689107762e-15\n",
            "{'id': '0ee91e856ac5f08f7bd588033e53080939edca16', 'coin': 'BINANCE BCH', 'name': 'Binance', 'type': 'pool', 'algorithm': 'SHA-256', 'network_hashrate': -1, 'difficulty': -1, 'reward': 1.2237083333333e-17, 'reward_unit': 'BCH', 'reward_block': -1, 'price': 207.69754233318, 'volume': -1, 'updated': 1693504802}\n",
            "2.541612133659582e-15\n",
            "{'id': 'c5f9a23bccda8b028e7d4a6a639e629e891818f7', 'coin': 'BINANCE BTC', 'name': 'Binance', 'type': 'pool', 'algorithm': 'SHA-256', 'network_hashrate': -1, 'difficulty': -1, 'reward': 9.6431874270277e-20, 'reward_unit': 'BTC', 'reward_block': -1, 'price': 26332.622147215, 'volume': -1, 'updated': 1693504802}\n",
            "2.5393041081069485e-15\n",
            "{'id': 'f6d21ac6373d0cbb55c9e7362672391cfe6ec168', 'coin': 'BSV', 'name': 'Bitcoin SV', 'type': 'coin', 'algorithm': 'SHA-256', 'network_hashrate': -1, 'difficulty': 70478757070.51952, 'reward': 7.4343938238458e-17, 'reward_unit': 'BSV', 'reward_block': 6.25116785, 'price': 31.724902907439, 'volume': 29805735.197033, 'updated': 1693504457}\n",
            "2.358554222371722e-15\n",
            "{'id': 'a195fd59ce0ebc3f9b2d99b3c396ff198bcb4a5e', 'coin': 'BTC', 'name': 'Bitcoin', 'type': 'coin', 'algorithm': 'SHA-256', 'network_hashrate': 3.7050423603829e+20, 'difficulty': 55621444139429, 'reward': 9.4184708133072e-20, 'reward_unit': 'BTC', 'reward_block': 6.25, 'price': 26332.622147215, 'volume': 14437155979.412, 'updated': 1693504452}\n",
            "2.4801303313139124e-15\n",
            "{'id': 'd84d63b8aecc4fa6d7e88be2749bce442eda7059', 'coin': 'DGC', 'name': 'Digitalcoin', 'type': 'coin', 'algorithm': 'SHA-256', 'network_hashrate': -1, 'difficulty': 450681.908309679, 'reward': 4.6495671431411e-12, 'reward_unit': 'DGC', 'reward_block': 2.5, 'price': 0.00109999, 'volume': 0.92362, 'updated': 1693504463}\n",
            "5.1144773617837785e-15\n",
            "{'id': '7995c3996665afa7d3e0138f51aa68f50b22dac3', 'coin': 'ELA', 'name': 'Elastos', 'type': 'coin', 'algorithm': 'SHA-256', 'network_hashrate': 321943734555.63, 'difficulty': 8203693538799.4, 'reward': 8.3666213766722e-20, 'reward_unit': 'ELA', 'reward_block': 0.81887366538, 'price': 1.5014165594899, 'volume': 280132.93066089, 'updated': 1693504471}\n",
            "1.2561783881917826e-19\n",
            "{'id': '35e9e574ca3f6bd5bd4b4ee5f6dc9906122c2142', 'coin': 'HASHC SHA-256', 'name': 'HashCryptos', 'type': 'pool', 'algorithm': 'SHA-256', 'network_hashrate': -1, 'difficulty': -1, 'reward': 9.6152081571468e-20, 'reward_unit': 'BTC', 'reward_block': -1, 'price': 26332.622147215, 'volume': -1, 'updated': 1693504802}\n",
            "2.5319364326896616e-15\n",
            "{'id': 'abb23eed7ec51b5c5daed89e9344d20d9b1210c1', 'coin': 'HIVEON BTC', 'name': 'Hiveon', 'type': 'pool', 'algorithm': 'SHA-256', 'network_hashrate': -1, 'difficulty': -1, 'reward': 9.4629688570833e-20, 'reward_unit': 'BTC', 'reward_block': -1, 'price': 26332.622147215, 'volume': -1, 'updated': 1693504802}\n",
            "2.4918478330443752e-15\n",
            "{'id': '1d98000d33fdd1332fc23999989be9faa4f50793', 'coin': 'LCN', 'name': 'Lyncoin', 'type': 'coin', 'algorithm': 'SHA-256', 'network_hashrate': 6.0286528610092e+17, 'difficulty': 51749146288.797, 'reward': 2.9848071367041e-12, 'reward_unit': 'LCN', 'reward_block': 184279.41482982, 'price': 6.7914689385762e-06, 'volume': None, 'updated': 1693504472}\n",
            "2.027122495656646e-17\n",
            "{'id': 'a808d1e1a45d31a815634909bf53109ce5c3b52b', 'coin': 'MD SHA-256', 'name': 'Mining Dutch', 'type': 'pool', 'algorithm': 'SHA-256', 'network_hashrate': -1, 'difficulty': -1, 'reward': 9.625e-20, 'reward_unit': 'BTC', 'reward_block': -1, 'price': 26332.622147215, 'volume': -1, 'updated': 1693504802}\n",
            "2.534514881669444e-15\n",
            "{'id': '2b5bf3abaa149ad5cc93bc91d754b3f774e807bc', 'coin': 'MRR SHA-256', 'name': 'Mining Rig Rentals', 'type': 'pool', 'algorithm': 'SHA-256', 'network_hashrate': -1, 'difficulty': -1, 'reward': 1.3375e-19, 'reward_unit': 'BTC', 'reward_block': -1, 'price': 26332.622147215, 'volume': -1, 'updated': 1693504802}\n",
            "3.5219882121900063e-15\n",
            "{'id': '0370876fb003e5f6b6a069c91662b9dec0cd7c66', 'coin': 'MZC', 'name': 'Maza', 'type': 'coin', 'algorithm': 'SHA-256', 'network_hashrate': 495548300000000, 'difficulty': 38378306.314149, 'reward': 8.1900794355467e-12, 'reward_unit': 'MZC', 'reward_block': 375.00001, 'price': 0.00051722, 'volume': 361.16, 'updated': 1693504480}\n",
            "4.236072885653464e-15\n",
            "{'id': '76d1990ecdfaaac415161d40d423b8048a6091c0', 'coin': 'NH SHA-256', 'name': 'NiceHash', 'type': 'pool', 'algorithm': 'SHA-256', 'network_hashrate': -1, 'difficulty': -1, 'reward': 9.9461466344695e-20, 'reward_unit': 'BTC', 'reward_block': -1, 'price': 26332.622147215, 'volume': -1, 'updated': 1693504802}\n",
            "2.6190812114627948e-15\n",
            "{'id': '662aff88901045fc312477e2a68421cfc4fd1a2f', 'coin': 'NMC', 'name': 'Namecoin', 'type': 'coin', 'algorithm': 'SHA-256', 'network_hashrate': 1.9533478493038e+20, 'difficulty': 33020717714014.11, 'reward': 1.5864856504887e-19, 'reward_unit': 'NMC', 'reward_block': 6.25, 'price': 1.4058333628219, 'volume': 6316.6658383599, 'updated': 1693504478}\n",
            "2.230334457095219e-19\n",
            "{'id': '54e8872f60dd7618b624c8c5c66f05968f9bbde2', 'coin': 'POOLIN BTC', 'name': 'Poolin', 'type': 'pool', 'algorithm': 'SHA-256', 'network_hashrate': -1, 'difficulty': -1, 'reward': 9.7083333333333e-20, 'reward_unit': 'BTC', 'reward_block': -1, 'price': 26332.622147215, 'volume': -1, 'updated': 1693504802}\n",
            "2.5564587334587807e-15\n",
            "{'id': 'e48b6d5f287323243f35240e06ffd078cf94d146', 'coin': 'PPC', 'name': 'Peercoin', 'type': 'coin', 'algorithm': 'SHA-256', 'network_hashrate': 4040492246369900, 'difficulty': 3998787903.5554, 'reward': 8.3341371970264e-15, 'reward_unit': 'PPC', 'reward_block': 39.76, 'price': 0.31312309167585, 'volume': 1828.4449841186, 'updated': 1693504483}\n",
            "2.6096108055836092e-15\n",
            "{'id': 'bace504c1c5834b70540d42042d5573f96582fe6', 'coin': 'PROH SHA-256', 'name': 'Prohashing', 'type': 'pool', 'algorithm': 'SHA-256', 'network_hashrate': -1, 'difficulty': -1, 'reward': 8.4029166666667e-20, 'reward_unit': 'BTC', 'reward_block': -1, 'price': 26332.622147215, 'volume': -1, 'updated': 1693504802}\n",
            "2.212708295178696e-15\n",
            "{'id': 'd14fcea13f3c91941d6bdb62848e1609d7a5ed90', 'coin': 'SMLY', 'name': 'SmileyCoin', 'type': 'coin', 'algorithm': 'SHA-256', 'network_hashrate': -1, 'difficulty': 8759798.3568629, 'reward': 4.7843014359871e-11, 'reward_unit': 'SMLY', 'reward_block': 500, 'price': 2.6355341287936e-05, 'volume': 34.311323730704, 'updated': 1693504500}\n",
            "1.260918971698023e-15\n",
            "{'id': '8e42ae4544bc0f8451a16f9191e2f84f2ad554f6', 'coin': 'SPIDER BTC', 'name': 'Spider', 'type': 'pool', 'algorithm': 'SHA-256', 'network_hashrate': -1, 'difficulty': -1, 'reward': 9.375e-20, 'reward_unit': 'BTC', 'reward_block': -1, 'price': 26332.622147215, 'volume': -1, 'updated': 1693504802}\n",
            "2.4686833263014062e-15\n",
            "{'id': '72b2ca5b2c46ad2a1eff1153428c1ff8c4bdf47c', 'coin': 'SYS', 'name': 'Syscoin', 'type': 'coin', 'algorithm': 'SHA-256', 'network_hashrate': 8.1532750330321e+19, 'difficulty': 2890590553357.7, 'reward': 2.3197759812237e-18, 'reward_unit': 'SYS', 'reward_block': 8, 'price': 0.09129506940196, 'volume': 1678512.7526271, 'updated': 1693504473}\n",
            "2.1178410920281754e-19\n",
            "{'id': '36f1c57eaba0f036bcc46abeac3207d684d250b8', 'coin': 'TRC', 'name': 'TRC', 'type': 'coin', 'algorithm': 'SHA-256', 'network_hashrate': 40117417646554000, 'difficulty': 1605923198.157, 'reward': 1.1743576627828e-15, 'reward_unit': 'TRC', 'reward_block': 2.25, 'price': 0, 'volume': None, 'updated': 1693504478}\n",
            "0.0\n",
            "{'id': '3ce2fc71f2475da0ffc3eb96bc79dea3e9dc6145', 'coin': 'UNO', 'name': 'UNO', 'type': 'coin', 'algorithm': 'SHA-256', 'network_hashrate': 13643409653222000, 'difficulty': 521238142.20517, 'reward': 1.6080755594897e-17, 'reward_unit': 'UNO', 'reward_block': 0.01, 'price': 0, 'volume': None, 'updated': 1693504473}\n",
            "0.0\n",
            "{'id': '81cc54f95e5cdd4c6219ac819b211f7c2fa8faf2', 'coin': 'VCASH', 'name': 'VCASH', 'type': 'coin', 'algorithm': 'SHA-256', 'network_hashrate': 1.0147643966302e+19, 'difficulty': 1715426604601, 'reward': 4.8861916616298e-18, 'reward_unit': 'VCASH', 'reward_block': 10, 'price': 0.00079401, 'volume': None, 'updated': 1693504494}\n",
            "3.879685041250678e-21\n",
            "{'id': '06dd929a9f49834d8da9d7635032c62430263282', 'coin': 'VEIL', 'name': 'VEIL', 'type': 'coin', 'algorithm': 'SHA-256', 'network_hashrate': 1.9403145215373e+19, 'difficulty': 1009.772745386855, 'reward': 1.9326763565264e-18, 'reward_unit': 'VEIL', 'reward_block': 10, 'price': 0.0029153771789676, 'volume': 122.93862117984, 'updated': 1693504479}\n",
            "5.634480544147316e-21\n",
            "{'id': '7b8978a6ab110d91bf85e900420a7b85a5b032dc', 'coin': 'VIABTC BTC', 'name': 'ViaBTC', 'type': 'pool', 'algorithm': 'SHA-256', 'network_hashrate': -1, 'difficulty': -1, 'reward': 9.625e-20, 'reward_unit': 'BTC', 'reward_block': -1, 'price': 26332.622147215, 'volume': -1, 'updated': 1693504802}\n",
            "2.534514881669444e-15\n",
            "{'id': '1941a10c978ba4fe599e280f840ffca55001ec05', 'coin': 'ZP SHA-256', 'name': 'Zergpool', 'type': 'pool', 'algorithm': 'SHA-256', 'network_hashrate': -1, 'difficulty': -1, 'reward': 9.50425e-20, 'reward_unit': 'BTC', 'reward_block': -1, 'price': 26332.622147215, 'volume': -1, 'updated': 1693504802}\n",
            "2.5027182404266815e-15\n",
            "{'id': 'c1a270c5c4c88bed3d37063be30e71fc1d5f636f', 'coin': 'zpool SHA-256', 'name': 'zpool', 'type': 'pool', 'algorithm': 'SHA-256', 'network_hashrate': -1, 'difficulty': -1, 'reward': 8.7527916666667e-20, 'reward_unit': 'BTC', 'reward_block': -1, 'price': 26332.622147215, 'volume': -1, 'updated': 1693504802}\n",
            "2.3048395569162645e-15\n"
          ]
        }
      ]
    },
    {
      "cell_type": "markdown",
      "source": [
        "**ACA EMPIEZAN LAS FUNCIONES PARA EL SCRIPT FINAL**"
      ],
      "metadata": {
        "id": "jf-GiQ89y-pZ"
      }
    },
    {
      "cell_type": "code",
      "source": [
        "##Funcion que trae el precio mas utilizado ingresando el algoritmo.\n",
        "##Devuelve el precio mas utilizado por los Rigs y el factor de conversion a hash/day\n",
        "\n",
        "def nicehash_data(algorithm):\n",
        "  # Endpoint para obtener el libro de órdenes de hashpower por algoritmo\n",
        "  endpoint = 'https://api2.nicehash.com/main/api/v2/hashpower/orderBook'\n",
        "\n",
        "  # Parámetros de la solicitud\n",
        "  params = {\n",
        "      'algorithm': algorithm,\n",
        "      'size': 100  # Cantidad de órdenes a obtener\n",
        "      }\n",
        "\n",
        "  #Realiza la solicitud a la API\n",
        "  response = requests.get(endpoint, params=params)\n",
        "  data = response.json()\n",
        "  maxRigs = data['stats']['USA']['orders'][0]\n",
        "  for item in data['stats']['USA']['orders']:\n",
        "    if item['rigsCount'] > maxRigs['rigsCount']:\n",
        "\n",
        "      maxRigs = item\n",
        "  return [maxRigs, float(data['stats']['USA']['priceFactor'])]\n"
      ],
      "metadata": {
        "id": "E29kDjWD2glb"
      },
      "execution_count": 14,
      "outputs": []
    },
    {
      "cell_type": "code",
      "source": [
        "##funcion datos minerstat, ingresas el algoritmo y devuelve la moneda con mayor recompensa en USD y la recompensa en USD por hash/hora..\n",
        "def minerstat_minables(algo):\n",
        "  url = f\"https://api.minerstat.com/v2/coins?algo={algo}\"\n",
        "\n",
        "  response = requests.get(url)\n",
        "  data = response.json()\n",
        "  bestReward = data[0]\n",
        "  reward_usd = data[0]['reward'] * data[0]['price']\n",
        "  for item in data:\n",
        "    itemReward_usd = item['reward'] * item['price']\n",
        "    if itemReward_usd > reward_usd:\n",
        "      bestReward = item\n",
        "      reward_usd = itemReward_usd\n",
        "  return [bestReward, itemReward_usd]\n"
      ],
      "metadata": {
        "id": "nEntRetZzLcn"
      },
      "execution_count": 15,
      "outputs": []
    },
    {
      "cell_type": "code",
      "source": [
        "## nicehash #[ \"SCRYPT\", \"SHA256\", \"SCRYPTNF\", \"X11\", \"X13\", \"KECCAK\", \"X15\", \"NIST5\", \"NEOSCRYPT\", \"LYRA2RE\", \"WHIRLPOOLX\", \"QUBIT\", \"QUARK\", \"AXIOM\", \"LYRA2REV2\", \"SCRYPTJANENF16\", \"BLAKE256R8\", \"BLAKE256R14\", \"BLAKE256R8VNL\", \"HODL\", \"DAGGERHASHIMOTO\", \"DECRED\", \"CRYPTONIGHT\", \"LBRY\", \"EQUIHASH\", \"PASCAL\", \"X11GOST\", \"SIA\", \"BLAKE2S\", \"SKUNK\", \"CRYPTONIGHTV7\", \"CRYPTONIGHTHEAVY\", \"LYRA2Z\", \"X16R\", \"CRYPTONIGHTV8\", \"SHA256ASICBOOST\", \"ZHASH\", \"BEAM\", \"GRINCUCKAROO29\", \"GRINCUCKATOO31\", \"LYRA2REV3\", \"CRYPTONIGHTR\", \"CUCKOOCYCLE\", \"GRINCUCKAROOD29\", \"BEAMV2\", \"X16RV2\", \"RANDOMXMONERO\", \"EAGLESONG\", \"CUCKAROOM\", \"GRINCUCKATOO32\", \"HANDSHAKE\", \"KAWPOW\", \"CUCKAROO29BFC\", \"BEAMV3\", \"CUCKAROOZ29\", \"OCTOPUS\", \"AUTOLYKOS\", \"ZELHASH\", \"KADENA\", \"ETCHASH\", \"VERUSHASH\", \"KHEAVYHASH\", \"NEXAPOW\", \"IRONFISH\" ]\n",
        "algos_nicehash_minerstat = [['SHA256', 'SHA-256'], ['SCRYPT', 'Scrypt'], ['X11', 'X11'], ['X13', 'X13'], ['NEOSCRYPT', 'NeoScrypt'], ['EQUIHASH', 'Equihash'], ['CUCKOOCYCLE', 'CuckooCycle'], ['KAWPOW', 'KAWPOW']]"
      ],
      "metadata": {
        "id": "oNnGkwb2AZtC"
      },
      "execution_count": 16,
      "outputs": []
    },
    {
      "cell_type": "code",
      "source": [
        "binance_BTCUSD = exchange.fetch_ticker('BTC/USD')\n",
        "BTCUSD = binance_BTCUSD['last']\n",
        "print(BTCUSD)\n",
        "\n",
        "for algo in algos_nicehash_minerstat:\n",
        "  print(algo)\n",
        "  best_nicehash = nicehash_data(algo[0])\n",
        "  print('**** DATOS NICEHASH ****')\n",
        "  print(best_nicehash)\n",
        "  best_minerstat = minerstat_minables(algo[1])\n",
        "  print('**** DATOS MINERSTAT ****')\n",
        "  print(best_minerstat)\n",
        "  print('**** RESUMEN ****')\n",
        "  precio_nicehash_hashHour_btc = float(best_nicehash[0]['price']) / best_nicehash[1] / 24\n",
        "  recompensa_minerstat_hashhour_btc = best_minerstat[1] / BTCUSD\n",
        "  print('Precio Nicehash en Hash/hora/BTC: ', precio_nicehash_hashHour_btc)\n",
        "  print('Recompensa Minerstat Hash/hora/BTC: ', recompensa_minerstat_hashhour_btc)\n",
        "  diff = recompensa_minerstat_hashhour_btc - precio_nicehash_hashHour_btc\n",
        "  porc_diff = (recompensa_minerstat_hashhour_btc / precio_nicehash_hashHour_btc)\n",
        "  print('Diferencia recompensa-gasto: ', diff)\n",
        "  print('% recompensa-gasto: ', porc_diff)\n",
        "  if diff > 0:\n",
        "    print('ES MAYOR A 0 POR LO TANTO ES VIABLE.')\n",
        "\n"
      ],
      "metadata": {
        "colab": {
          "base_uri": "https://localhost:8080/"
        },
        "id": "39ek-VdZ3BtY",
        "outputId": "43d36506-2181-42bf-cea8-2f77fa2a9f91"
      },
      "execution_count": 17,
      "outputs": [
        {
          "output_type": "stream",
          "name": "stdout",
          "text": [
            "26355.0\n",
            "['SHA256', 'SHA-256']\n",
            "**** DATOS NICEHASH ****\n",
            "[{'id': '2e036218-d8a0-48aa-bc17-18fdee73d5eb', 'type': 'STANDARD', 'price': '2.22130000', 'limit': '0.00000000', 'rigsCount': 1177, 'acceptedSpeed': '0.00423770', 'payingSpeed': '0.00422230', 'alive': True}, 1e+18]\n",
            "**** DATOS MINERSTAT ****\n",
            "[{'id': 'd84d63b8aecc4fa6d7e88be2749bce442eda7059', 'coin': 'DGC', 'name': 'Digitalcoin', 'type': 'coin', 'algorithm': 'SHA-256', 'network_hashrate': -1, 'difficulty': 450681.908309679, 'reward': 4.6495671431411e-12, 'reward_unit': 'DGC', 'reward_block': 2.5, 'price': 0.00109999, 'volume': 0.92362, 'updated': 1693504463}, 2.3048395569162645e-15]\n",
            "**** RESUMEN ****\n",
            "Precio Nicehash en Hash/hora/BTC:  9.255416666666667e-20\n",
            "Recompensa Minerstat Hash/hora/BTC:  8.745359730283682e-20\n",
            "Diferencia recompensa-gasto:  -5.100569363829845e-21\n",
            "% recompensa-gasto:  0.9448909806275981\n",
            "['SCRYPT', 'Scrypt']\n",
            "**** DATOS NICEHASH ****\n",
            "[{'id': '8ae7f133-4fd2-4865-86b7-7e6a454fcd42', 'type': 'FIXED', 'price': '0.05900000', 'limit': '0.94600000', 'rigsCount': 300, 'acceptedSpeed': '0.96436332', 'payingSpeed': '0.92948727', 'alive': True}, 1000000000000.0]\n",
            "**** DATOS MINERSTAT ****\n",
            "[{'id': '8f443f679a8403217f9d663734be1ffc4dc3dc9a', 'coin': 'EFL', 'name': 'e-Gulden', 'type': 'coin', 'algorithm': 'Scrypt', 'network_hashrate': 151614046.02412, 'difficulty': 5.1669189512149, 'reward': 1.9802544696006e-09, 'reward_unit': 'EFL', 'reward_block': 0.01220703, 'price': 0.087193375585995, 'volume': 31.560816222777, 'updated': 1693505901}, 8.043555944110109e-11]\n",
            "**** RESUMEN ****\n",
            "Precio Nicehash en Hash/hora/BTC:  2.4583333333333334e-15\n",
            "Recompensa Minerstat Hash/hora/BTC:  3.0520037731398632e-15\n",
            "Diferencia recompensa-gasto:  5.936704398065299e-16\n",
            "% recompensa-gasto:  1.2414930602602834\n",
            "ES MAYOR A 0 POR LO TANTO ES VIABLE.\n",
            "['X11', 'X11']\n",
            "**** DATOS NICEHASH ****\n",
            "[{'id': 'e556ae29-e66d-4789-90da-8ba4e6297b94', 'type': 'STANDARD', 'price': '0.20050000', 'limit': '1.00000000', 'rigsCount': 450, 'acceptedSpeed': '0.00537294', 'payingSpeed': '0.00939698', 'alive': True}, 1000000000000000.0]\n",
            "**** DATOS MINERSTAT ****\n",
            "[{'id': '23e12d77a02b0ea20c525874156e081304330100', 'coin': 'DGC', 'name': 'Digitalcoin', 'type': 'coin', 'algorithm': 'X11', 'network_hashrate': -1, 'difficulty': 629.217632385217, 'reward': 3.3302877812584e-09, 'reward_unit': 'DGC', 'reward_block': 2.5, 'price': 0.00109941, 'volume': 0.923135, 'updated': 1693505896}, 2.7073271461207973e-13]\n",
            "**** RESUMEN ****\n",
            "Precio Nicehash en Hash/hora/BTC:  8.354166666666666e-18\n",
            "Recompensa Minerstat Hash/hora/BTC:  1.0272537075017253e-17\n",
            "Diferencia recompensa-gasto:  1.918370408350587e-18\n",
            "% recompensa-gasto:  1.229630373069397\n",
            "ES MAYOR A 0 POR LO TANTO ES VIABLE.\n",
            "['X13', 'X13']\n",
            "**** DATOS NICEHASH ****\n",
            "[{'id': '987a0a97-343d-47d8-adbd-5d15529e091a', 'type': 'STANDARD', 'price': '0.00080000', 'limit': '0.00000000', 'rigsCount': 24, 'acceptedSpeed': '0.01649267', 'payingSpeed': '0.01430265', 'alive': True}, 1000000000000.0]\n",
            "**** DATOS MINERSTAT ****\n",
            "[{'id': 'ee69c324122f6e0f6dc1cc2b7434b79f90683ff9', 'coin': 'zpool X13', 'name': 'zpool', 'type': 'pool', 'algorithm': 'X13', 'network_hashrate': -1, 'difficulty': -1, 'reward': 9.7083333333333e-17, 'reward_unit': 'BTC', 'reward_block': -1, 'price': 26361.510673036, 'volume': -1, 'updated': 1693504802}, 2.5592633278405694e-12]\n",
            "**** RESUMEN ****\n",
            "Precio Nicehash en Hash/hora/BTC:  3.3333333333333335e-17\n",
            "Recompensa Minerstat Hash/hora/BTC:  9.710731655627279e-17\n",
            "Diferencia recompensa-gasto:  6.377398322293944e-17\n",
            "% recompensa-gasto:  2.9132194966881833\n",
            "ES MAYOR A 0 POR LO TANTO ES VIABLE.\n",
            "['NEOSCRYPT', 'NeoScrypt']\n",
            "**** DATOS NICEHASH ****\n",
            "[{'id': 'cab38336-7f65-49c0-8e2c-74877537fd61', 'type': 'STANDARD', 'price': '0.00120000', 'limit': '0.10000000', 'rigsCount': 100, 'acceptedSpeed': '0.12884901', 'payingSpeed': '0.11212119', 'alive': True}, 1000000000.0]\n",
            "**** DATOS MINERSTAT ****\n",
            "[{'id': '204741a075023fb62fcac006125878a89931fabf', 'coin': 'MPH NeoScrypt', 'name': 'Mining Pool Hub', 'type': 'pool', 'algorithm': 'NeoScrypt', 'network_hashrate': -1, 'difficulty': -1, 'reward': 4.0747416666667e-13, 'reward_unit': 'BTC', 'reward_block': -1, 'price': 26361.510673036, 'volume': -1, 'updated': 1693504802}, 1.8123538587712247e-09]\n",
            "**** RESUMEN ****\n",
            "Precio Nicehash en Hash/hora/BTC:  4.9999999999999995e-14\n",
            "Recompensa Minerstat Hash/hora/BTC:  6.87669838274037e-14\n",
            "Diferencia recompensa-gasto:  1.8766983827403708e-14\n",
            "% recompensa-gasto:  1.375339676548074\n",
            "ES MAYOR A 0 POR LO TANTO ES VIABLE.\n",
            "['EQUIHASH', 'Equihash']\n",
            "**** DATOS NICEHASH ****\n",
            "[{'id': '5963ebb4-ae04-4785-b1bf-577bc8b731b8', 'type': 'STANDARD', 'price': '0.36290000', 'limit': '4.10000000', 'rigsCount': 104, 'acceptedSpeed': '0.00175702', 'payingSpeed': '0.00125140', 'alive': True}, 1000000000.0]\n",
            "**** DATOS MINERSTAT ****\n",
            "[{'id': 'c8539bd2037c020d4f78b75dbe5e56ab604e2b2c', 'coin': 'MRR Equihash', 'name': 'Mining Rig Rentals', 'type': 'pool', 'algorithm': 'Equihash', 'network_hashrate': -1, 'difficulty': -1, 'reward': 1.7916666666667e-11, 'reward_unit': 'BTC', 'reward_block': -1, 'price': 26361.510673036, 'volume': -1, 'updated': 1693506001}, 2.30663218389065e-07]\n",
            "**** RESUMEN ****\n",
            "Precio Nicehash en Hash/hora/BTC:  1.5120833333333335e-11\n",
            "Recompensa Minerstat Hash/hora/BTC:  8.7521615780332e-12\n",
            "Diferencia recompensa-gasto:  -6.368671755300134e-12\n",
            "% recompensa-gasto:  0.5788147640473872\n",
            "['CUCKOOCYCLE', 'CuckooCycle']\n",
            "**** DATOS NICEHASH ****\n",
            "[{'id': '170567e5-3458-466c-8e7f-c049dcad8cbf', 'type': 'STANDARD', 'price': '0.00100000', 'limit': '100.00000000', 'rigsCount': 2433, 'acceptedSpeed': '25.01632000', 'payingSpeed': '24.35916000', 'alive': True}, 1000.0]\n",
            "**** DATOS MINERSTAT ****\n",
            "[{'id': 'd845a5ff6aa05ec3baf417ff072dd9a961aa125f', 'coin': '2MINERS AE', 'name': '2Miners', 'type': 'pool', 'algorithm': 'CuckooCycle', 'network_hashrate': -1, 'difficulty': -1, 'reward': 0.044337711745269, 'reward_unit': 'AE', 'reward_block': -1, 'price': 0.025230795029646, 'volume': -1, 'updated': 1693504802}, 0.0009286489413052744]\n",
            "**** RESUMEN ****\n",
            "Precio Nicehash en Hash/hora/BTC:  4.166666666666666e-08\n",
            "Recompensa Minerstat Hash/hora/BTC:  3.5236157894337864e-08\n",
            "Diferencia recompensa-gasto:  -6.430508772328799e-09\n",
            "% recompensa-gasto:  0.8456677894641088\n",
            "['KAWPOW', 'KAWPOW']\n",
            "**** DATOS NICEHASH ****\n",
            "[{'id': 'ac08f4c6-59b8-4d14-b1b7-5f9a1eb50fd3', 'type': 'FIXED', 'price': '0.32010000', 'limit': '0.01980000', 'rigsCount': 211, 'acceptedSpeed': '0.02001077', 'payingSpeed': '0.02156679', 'alive': True}, 1000000000000.0]\n",
            "**** DATOS MINERSTAT ****\n",
            "[{'id': '0a59420fbc1a48dc7d405e670442be3440fd80bb', 'coin': 'PRCO', 'name': 'ProcyonCoin', 'type': 'coin', 'algorithm': 'KAWPOW', 'network_hashrate': 1149247700, 'difficulty': 14.45129813916589, 'reward': 2.6100467867106e-06, 'reward_unit': 'PRCO', 'reward_block': 45, 'price': 0.022388519075909, 'volume': None, 'updated': 1693505927}, 4.420825339868137e-10]\n",
            "**** RESUMEN ****\n",
            "Precio Nicehash en Hash/hora/BTC:  1.33375e-14\n",
            "Recompensa Minerstat Hash/hora/BTC:  1.677414281869906e-14\n",
            "Diferencia recompensa-gasto:  3.4366428186990603e-15\n",
            "% recompensa-gasto:  1.2576676902492265\n",
            "ES MAYOR A 0 POR LO TANTO ES VIABLE.\n"
          ]
        }
      ]
    },
    {
      "cell_type": "code",
      "source": [
        "dato = 8.734801843546756e-16\n",
        "gigadato = dato * 1000 * 1000 * 1000\n",
        "print(gigadato* 24)"
      ],
      "metadata": {
        "colab": {
          "base_uri": "https://localhost:8080/"
        },
        "id": "JGojJ-2Ry7xT",
        "outputId": "6f1b5662-69d9-425d-8d87-1fd318f80d97"
      },
      "execution_count": 18,
      "outputs": [
        {
          "output_type": "stream",
          "name": "stdout",
          "text": [
            "2.0963524424512214e-05\n"
          ]
        }
      ]
    }
  ]
}